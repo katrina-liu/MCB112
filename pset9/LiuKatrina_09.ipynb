{
 "cells": [
  {
   "cell_type": "code",
   "execution_count": 1,
   "metadata": {},
   "outputs": [],
   "source": [
    "\"\"\"LiuKatrina_09.ipynb Harvard MCB 112 Problem Set 09: the return of the ten Arcs submitted by Xiao (Katrina) Liu\"\"\"\n",
    "__author__      = \"Katrina Liu\"\n",
    "__email__ = \"xliu@hms.harvard.edu\"\n",
    "__date__ = \"Nov 2, 2022\""
   ]
  },
  {
   "cell_type": "code",
   "execution_count": 2,
   "metadata": {},
   "outputs": [],
   "source": [
    "import numpy as np\n",
    "import string\n",
    "import sys\n",
    "import re\n",
    "import pandas as pd\n",
    "import matplotlib.pyplot as plt\n"
   ]
  },
  {
   "cell_type": "code",
   "execution_count": 3,
   "metadata": {},
   "outputs": [],
   "source": [
    "def get_data(filename):\n",
    "    # Parse the input file. Code adopted from w09-naive.py on mcb112.org website\n",
    "    #\n",
    "    with open(filename) as f:\n",
    "        #   The first line is \"The <n> transcripts of the sand mouse Arc locus\"\n",
    "        line  = f.readline()\n",
    "        match = re.search(r'^The (\\d+) transcripts', line)\n",
    "        T     = int(match.group(1))\n",
    "\n",
    "        # The next T lines are \n",
    "        #   <Arcn>  <true_tau> <L> <structure>\n",
    "        # tau's may be present, or obscured (\"xxxxx\")\n",
    "        tau       = np.zeros(T)\n",
    "        L         = np.zeros(T).astype(int)\n",
    "        tau_known = True   # until we see otherwise\n",
    "        for i in range(T):\n",
    "            fields    = f.readline().split()\n",
    "            if fields[1] == \"xxxxx\":\n",
    "                tau_known = False\n",
    "            else:\n",
    "                tau[i] = float(fields[1])\n",
    "            L[i]      = int(fields[2])\n",
    "\n",
    "        # after a blank line,\n",
    "        # 'The <n> read sequences':\n",
    "        line  = f.readline()\n",
    "        line  = f.readline()\n",
    "        match = re.search(r'The (\\d+) read sequences', line)\n",
    "        N     = int(match.group(1))\n",
    "\n",
    "        # the next T lines are \n",
    "        #  <read a-j> <count>\n",
    "        r = np.zeros(T).astype(int)\n",
    "        for k in range(T):\n",
    "            fields = f.readline().split()\n",
    "            r[k]   = fields[1]\n",
    "\n",
    "\n",
    "    S = T    # S = R = T : there are T transcripts (Arc1..Arc10), S segments (A..J), R reads (a..j)\n",
    "    R = T\n",
    "    Slabel   = list(string.ascii_uppercase)[:S]               # ['A'..'J']        : the upper case labels for Arc locus segments \n",
    "    Tlabel   = [ \"Arc{}\".format(d) for d in range(1,T+1) ]    # ['Arc1'..'Arc10'] : the labels for Arc transcript isoforms\n",
    "    Rlabel   = list(string.ascii_lowercase)[:T]               # ['a'..'j']        : lower case labels for reads\n",
    "\n",
    "\n",
    "    # Count how often each segment A..J is used in the isoforms i\n",
    "    # We'll use that to split observed read counts across the isoforms\n",
    "    # that they might have come from.\n",
    "    #\n",
    "    segusage = np.zeros(S).astype(int)\n",
    "    for i in range(T):\n",
    "        for j in range(i,i+L[i]): \n",
    "            segusage[j%S] += 1\n",
    "    return Tlabel, Slabel, Rlabel, N, r,segusage,tau_known,tau,L\n",
    "\n"
   ]
  },
  {
   "cell_type": "code",
   "execution_count": 4,
   "metadata": {},
   "outputs": [
    {
     "data": {
      "text/plain": [
       "(['Arc1',\n",
       "  'Arc2',\n",
       "  'Arc3',\n",
       "  'Arc4',\n",
       "  'Arc5',\n",
       "  'Arc6',\n",
       "  'Arc7',\n",
       "  'Arc8',\n",
       "  'Arc9',\n",
       "  'Arc10'],\n",
       " ['A', 'B', 'C', 'D', 'E', 'F', 'G', 'H', 'I', 'J'],\n",
       " ['a', 'b', 'c', 'd', 'e', 'f', 'g', 'h', 'i', 'j'],\n",
       " 1000000,\n",
       " array([101808, 183489, 186342,  86295,  92872,  48564,  15523,  87426,\n",
       "        113901,  83780]),\n",
       " array([3, 3, 3, 2, 3, 3, 3, 3, 2, 2]),\n",
       " True,\n",
       " array([0.046, 0.293, 0.128, 0.089, 0.017, 0.017, 0.006, 0.196, 0.089,\n",
       "        0.12 ]),\n",
       " array([3, 2, 3, 3, 3, 3, 2, 2, 3, 3]))"
      ]
     },
     "execution_count": 4,
     "metadata": {},
     "output_type": "execute_result"
    }
   ],
   "source": [
    "# Obtain the data from the example file, we will be using the data\n",
    "# from the example to test our generative model and the calculation\n",
    "# of log likelihood.\n",
    "Tlabel, Slabel, Rlabel, N, r,segusage,tau_known,tau,L=get_data(\"w09-example.out\")\n",
    "Tlabel, Slabel, Rlabel, N, r,segusage,tau_known,tau,L"
   ]
  },
  {
   "cell_type": "markdown",
   "metadata": {},
   "source": [
    "# Exercise 1: Postive Control: the Generative Model\n",
    "Our generative model follows the below procedure:\n",
    "- Choose the transcript isoform $T_i$ with probabilty $v_i$ where $\\vec{v}$ is the nucleotide abundance levels.\n",
    "- Uniformly choose one of segments $S_j$ from the segments of isoform $T_i$. \n",
    "\n",
    "After defining the algorithm, we will first write some helper functions to facilitate the conversions between transcript abundance levels and nucleotide abundance levels."
   ]
  },
  {
   "cell_type": "code",
   "execution_count": 5,
   "metadata": {},
   "outputs": [],
   "source": [
    "def get_nuc_abundances(tau,lengths):\n",
    "    \"\"\"\n",
    "    Convert the nucleotide abundances from the transcript abundances\n",
    "    :param tau: a list of transcript abundance levels for each transcript isoform\n",
    "    :param lengths: a list of transcript lengths\n",
    "    :return: a list of nucleotide abundance levels for each transcript isoform\n",
    "    \"\"\"\n",
    "    abund = np.multiply(tau,lengths)\n",
    "    return abund/abund.sum()\n",
    "\n",
    "def get_transcript_abundances(nuc_abunds,lengths):\n",
    "    \"\"\"\n",
    "    Convert the transcript abundances from the nucleotide abundances\n",
    "    :param nuc_abunds: a list of nucleotide abundance levels for each transcript isoform\n",
    "    :param lengths: a list of transcript lengths\n",
    "    :return: a list of transcript abundance levels for each transcript isoform\n",
    "    \"\"\"\n",
    "    tau_raw = np.divide(nuc_abunds,lengths)\n",
    "    return tau_raw/sum(tau_raw)\n"
   ]
  },
  {
   "cell_type": "markdown",
   "metadata": {},
   "source": [
    "Then, we will be able to generate the reads. "
   ]
  },
  {
   "cell_type": "code",
   "execution_count": 6,
   "metadata": {},
   "outputs": [],
   "source": [
    "\n",
    "def count_reads(sample_reads,s_num=10):\n",
    "    \"\"\"\n",
    "    Count the number of each reads from a list of reads\n",
    "    :param sample_reads: a list of generated reads\n",
    "    :param s_num: number of different segments\n",
    "    :return: the count of each read from the sample reads\n",
    "    \"\"\"\n",
    "    return np.array([np.count_nonzero(sample_reads==i) for i in range(s_num)])\n",
    "\n",
    "def generate_read_counts(tau,lengths,s_num=10,read_num=1000000):\n",
    "    \"\"\"\n",
    "    Generate reads based on the input transcript abundances and transcript lengths\n",
    "    :param tau: a list of transcript abundance levels for each transcript isoform\n",
    "    :param lengths: a list of transcript lengths\n",
    "    :param s_num: number of different segments\n",
    "    :paran read_num: number of reads to be generated\n",
    "    :return: a list of generated reads, the count of each read from the sample reads\n",
    "    \"\"\"\n",
    "    t_num = len(lengths)\n",
    "    abunds = get_nuc_abundances(tau,lengths)\n",
    "    sample_isoforms = np.random.choice(t_num,read_num,p=abunds)\n",
    "    sample_segments = [(np.random.choice(lengths[i])+i)%s_num for i in sample_isoforms]\n",
    "    sample_segments = np.array(sample_segments)\n",
    "    return sample_segments, count_reads(sample_segments,s_num)"
   ]
  },
  {
   "cell_type": "markdown",
   "metadata": {},
   "source": [
    "Now, we can generate a test read data."
   ]
  },
  {
   "cell_type": "code",
   "execution_count": 7,
   "metadata": {},
   "outputs": [
    {
     "name": "stdout",
     "output_type": "stream",
     "text": [
      "The tau we used to generate the reads are:  [0.046 0.293 0.128 0.089 0.017 0.017 0.006 0.196 0.089 0.12 ]\n",
      "The transcript lengths we used to generate the reads are:  [3 2 3 3 3 3 2 2 3 3]\n",
      "The generated reads are  [2 2 4 ... 1 4 2]\n",
      "The counts for each read are \n",
      "     count\n",
      "a  101850\n",
      "b  182839\n",
      "c  186287\n",
      "d   86346\n",
      "e   92490\n",
      "f   49118\n",
      "g   15974\n",
      "h   87618\n",
      "i  114027\n",
      "j   83451\n"
     ]
    }
   ],
   "source": [
    "# Known parameters\n",
    "print(\"The tau we used to generate the reads are: \", tau)\n",
    "print(\"The transcript lengths we used to generate the reads are: \",L)\n",
    "# Generate the reads\n",
    "rs = generate_read_counts(tau,L,10,1000000)\n",
    "print(\"The generated reads are \", rs[0])\n",
    "print(\"The counts for each read are \\n\",pd.DataFrame(rs[1],index=Rlabel, columns=[\"count\"]))"
   ]
  },
  {
   "cell_type": "markdown",
   "metadata": {},
   "source": [
    "# Exercise 2: Log Likelihood\n",
    "First, we need a function to find the segments related to each transcript isoforms based on their lengths."
   ]
  },
  {
   "cell_type": "code",
   "execution_count": 8,
   "metadata": {},
   "outputs": [],
   "source": [
    "def get_transcript_isoforms(lengths,s_num=10):\n",
    "    \"\"\"\n",
    "    Get the segments contained in each transcript isoforms\n",
    "    :param lengths: a list of transcript lengths\n",
    "    :param s_num: number of different segments\n",
    "    :return: a 2d-list of the segment indices each transcript contains\n",
    "    \"\"\"\n",
    "    isoforms = []\n",
    "    for i in range(len(lengths)):\n",
    "        isoform = []\n",
    "        for j in range(lengths[i]):\n",
    "            isoform.append((i+j)%s_num)\n",
    "        isoforms.append(isoform)\n",
    "    return isoforms"
   ]
  },
  {
   "cell_type": "markdown",
   "metadata": {},
   "source": [
    "\n",
    "We write $P(S,T|\\vec{v},{L})$ to represent the probability of segment S was generated from the selected transcript isoform T given the nucleotide abundance levels and transcript lengths.\n",
    "$$P(S_j,T_i|\\vec{v},\\vec{L}) = P(S_j|T_i,\\vec{L})P(T_i|\\vec{v}) = \\dfrac{v_{i}}{L_{i}}\\delta(S_j\\in T_{i})$$\n",
    "Since the value of $T_i$ is solely dependent on $v_{i}$ and $L_{i}$ and independent with the rest of values in $\\vec{v}$ and $\\vec{L}$, $$P(S_j,T_i|\\vec{v},\\vec{L}) = P(S_i,T_i|v_i,L_i).$$\n",
    "For this distribution, if we marginalize over the transcripts r.v., $T_{i}$, we will get the probability of generating a read of segment $S_j$, $P(S_j|\\vec{v},\\vec{L})$, to be equal to $$P(S_j|\\vec{v},\\vec{L}) = \\sum_{i=1}^n P(S_j,T_i|v_i,L_i).$$\n",
    "Since each read is generated independently, the probability of generating $c_j$ many read $S_j$, $$P(c_j|\\vec{v},\\vec{L}) =P(S_j|\\vec{v},\\vec{L})^{c_j}= (\\sum_{i=1}^n P(S_j,T_i|v_i,L_i))^{c_j}$$\n",
    "(Note: Here we use n to denote number of segments and transcripts because they are the same. But essentially, n asscosiated with i would be denoting the number of transcript isoforms, and n associated with j would be denoting the number of segments. This notation is being used through out the entire submission.)"
   ]
  },
  {
   "cell_type": "markdown",
   "metadata": {},
   "source": [
    "Then, the likelihood of observing read counts $c_1,...c_n$, $P(c_1, c_2,....,c_n|\\vec{v},\\vec{L})$, can be reformated into $$P(c_1, c_2,....,c_n|\\vec{v},\\vec{L}) = \\prod_{j=1}^n P(c_{j}|\\vec{v},\\vec{L})=\\prod_{j=1}^n P(S_{j}|\\vec{v},\\vec{L})^{c_j} = \\prod_{j=1}^n (\\sum_{i=1}^n P(S_j, T_{i}|v_i,L_i))^{c_j} $$\n",
    "Substituting in what we had before, we have $$P(c_1, c_2,....,c_n|\\vec{v},\\vec{L})= \\prod_{j=1}^n (\\sum_{i=1}^n \\dfrac{v_{i}}{L_{i}}\\delta(S_j\\in T_{i}))^{c_j}=\\prod_{j=1}^n (\\sum_{i=1}^n \\dfrac{v_{i}}{L_{i}}\\delta(S_j\\in T_{i}))^{c_j}$$\n",
    "Then, our log likelihood is $$\\log P(c_1, c_2,....,c_n|\\vec{v},\\vec{L}) = \\sum_{j=1}^n c_j\\log (\\sum_{i=1}^n \\dfrac{v_{i}}{L_{i}}\\delta(S_j\\in T_{i}))$$"
   ]
  },
  {
   "cell_type": "code",
   "execution_count": 9,
   "metadata": {},
   "outputs": [],
   "source": [
    "def log_likelihood(read_counts,transcript_isoforms,nuc_abunds,lengths):\n",
    "    \"\"\"\n",
    "    Calculate the log likelihood of observing read counts based on given abundances and\n",
    "    transcripts\n",
    "    :param read_counts: a list of counts of each read\n",
    "    :param transcript_isoforms: a 2d-list of the segment indices each transcript contains\n",
    "    :param nuc_abunds: a list of nucleotide abundance levels for each transcript isoform\n",
    "    :param lengths: a list of transcript lengths\n",
    "    :return: the log likelihood of observing read counts based on the given parameters\n",
    "    \"\"\"\n",
    "    s_num = len(read_counts)\n",
    "    t_num = len(transcript_isoforms)\n",
    "    total_log_likelihood = 0\n",
    "    for s in range(s_num):\n",
    "        read_prob = 0\n",
    "        for t in range(t_num):\n",
    "            if s in transcript_isoforms[t]:\n",
    "                read_prob += np.divide(nuc_abunds[t],lengths[t])\n",
    "        total_log_likelihood += np.log(read_prob)*read_counts[s]\n",
    "    return total_log_likelihood"
   ]
  },
  {
   "cell_type": "markdown",
   "metadata": {},
   "source": [
    "Then, we want to compare the results of Lestrade's method."
   ]
  },
  {
   "cell_type": "code",
   "execution_count": 10,
   "metadata": {},
   "outputs": [],
   "source": [
    "def lestrade_method(T,S,L,segusage,r): \n",
    "    # Code adopted from w09-naive.py on mcb112.org\n",
    "    # Naive analysis:\n",
    "    #\n",
    "    c  = np.zeros(T)\n",
    "    for i in range(T):\n",
    "        for k in range(i,i+L[i]):\n",
    "            c[i] += (1.0 / float(segusage[k%S])) * float(r[k%S])  # For each read k, assume read k-> segment j,\n",
    "                                                                # and assign 1/usage count to each transcript\n",
    "                                                                # that contains segment j.\n",
    "    Z       = np.sum(c)\n",
    "    est_nu  = np.divide(c, Z)       # nucleotide abundance\n",
    "\n",
    "    est_tau = np.divide(est_nu, L)  # convert to TPM, transcript abundance\n",
    "    est_tau = np.divide(est_tau, np.sum(est_tau))\n",
    "    return est_tau"
   ]
  },
  {
   "cell_type": "markdown",
   "metadata": {},
   "source": [
    "We test it first with the read counts from the example file."
   ]
  },
  {
   "cell_type": "code",
   "execution_count": 11,
   "metadata": {},
   "outputs": [
    {
     "name": "stdout",
     "output_type": "stream",
     "text": [
      "The counts from the example file are \n",
      "     count\n",
      "a  101808\n",
      "b  183489\n",
      "c  186342\n",
      "d   86295\n",
      "e   92872\n",
      "f   48564\n",
      "g   15523\n",
      "h   87426\n",
      "i  113901\n",
      "j   83780\n"
     ]
    }
   ],
   "source": [
    "print(\"The counts from the example file are \\n\",pd.DataFrame(r,index=Rlabel, columns=[\"count\"]))"
   ]
  },
  {
   "cell_type": "code",
   "execution_count": 12,
   "metadata": {},
   "outputs": [
    {
     "name": "stdout",
     "output_type": "stream",
     "text": [
      "True tau is: [0.046 0.293 0.128 0.089 0.017 0.017 0.006 0.196 0.089 0.12 ]\n",
      "Lestrade estimated tau to be:  [0.14013816 0.1648319  0.12142416 0.08048616 0.04663725 0.04501908\n",
      " 0.04588387 0.11511304 0.1183557  0.12211068]\n",
      "We obtained a log likelihood of -2203735.731137 based on the tau Lestrade calculated.\n",
      "We obtained a log likelihood of -2168747.221869 based on the true tau.\n",
      "We observed a difference of %f in the log likelihood, indicating the true tau is that much more likely than Lestrades result.\n"
     ]
    }
   ],
   "source": [
    "# Get Lestrade's parameters\n",
    "print(\"True tau is:\", tau)\n",
    "lestrade_tau=lestrade_method(10,10,L,segusage,r)\n",
    "print(\"Lestrade estimated tau to be: \", lestrade_tau)\n",
    "lestrade_nuc_abunds = get_nuc_abundances(lestrade_tau,L)\n",
    "\n",
    "# Get fixed parameters\n",
    "ts = get_transcript_isoforms(L)\n",
    "true_nuc_abunds = get_nuc_abundances(tau,L)\n",
    "\n",
    "# Get log likelihoods\n",
    "lestrade_ll = log_likelihood(r,ts,lestrade_nuc_abunds,L)\n",
    "true_ll = log_likelihood(r,ts,get_nuc_abundances(tau,L),L)\n",
    "\n",
    "# Summarize the results\n",
    "print(\"We obtained a log likelihood of %f based on the tau Lestrade calculated.\"%lestrade_ll)\n",
    "print(\"We obtained a log likelihood of %f based on the true tau.\"%true_ll)\n",
    "print(\"We observed a difference of %f in the log likelihood, indicating the true tau is that \"+\n",
    "    \"much more likely than Lestrades result.\"%(true_ll-lestrade_ll))"
   ]
  },
  {
   "cell_type": "markdown",
   "metadata": {},
   "source": [
    "Then, we test it based on the read count data set we generated in exercise 1."
   ]
  },
  {
   "cell_type": "code",
   "execution_count": 13,
   "metadata": {},
   "outputs": [
    {
     "name": "stdout",
     "output_type": "stream",
     "text": [
      "True tau is: [0.046 0.293 0.128 0.089 0.017 0.017 0.006 0.196 0.089 0.12 ]\n",
      "Lestrade estimated tau to be:  [0.13993453 0.16450989 0.12131129 0.08055618 0.04682014 0.04537259\n",
      " 0.04616827 0.11527739 0.11827209 0.12177762]\n",
      "We obtained a log likelihood of -2204842.489269 based on the tau Lestrade calculated.\n",
      "We obtained a log likelihood of -2170327.055240 based on the true tau.\n",
      "We observed a difference of %f in the log likelihood, indicating the true tau is that much more likely than Lestrades result.\n"
     ]
    }
   ],
   "source": [
    "# Get Lestrade's parameters\n",
    "print(\"True tau is:\", tau)\n",
    "lestrade_tau=lestrade_method(10,10,L,segusage,rs[1])\n",
    "print(\"Lestrade estimated tau to be: \", lestrade_tau)\n",
    "lestrade_nuc_abunds = get_nuc_abundances(lestrade_tau,L)\n",
    "\n",
    "# Get fixed parameters\n",
    "ts = get_transcript_isoforms(L)\n",
    "true_nuc_abunds = get_nuc_abundances(tau,L)\n",
    "\n",
    "# Get log likelihoods\n",
    "lestrade_test_ll = log_likelihood(rs[1],ts,lestrade_nuc_abunds,L)\n",
    "true_test_ll = log_likelihood(rs[1],ts,get_nuc_abundances(tau,L),L)\n",
    "\n",
    "# Summarize the results\n",
    "print(\"We obtained a log likelihood of %f based on the tau Lestrade calculated.\"%lestrade_test_ll)\n",
    "print(\"We obtained a log likelihood of %f based on the true tau.\"%true_test_ll)\n",
    "print(\"We observed a difference of %f in the log likelihood, indicating the true tau is that \"+\n",
    "    \"much more likely than Lestrades result.\"%(true_ll-lestrade_ll))"
   ]
  },
  {
   "cell_type": "markdown",
   "metadata": {},
   "source": [
    "# Exercise 3: Isoform Abundances via EM\n",
    "The use of the EM algorithm can be described as the following:\n",
    "- **Expection**: We are trying to obtain the expectation transcript counts from the observed read counts, the abundance levels, and the lengths of the transcript. \n",
    "    - $P(T|S,\\vec{v},\\vec{L})$: the probability of one observed segment S is generated from transcript isoform T given the nucleotide abundances, and the transcript lengths.\n",
    "    - By Bayes' rule: $$P(T|S,\\vec{v},\\vec{L}) = \\dfrac{P(S,T|\\vec{v},\\vec{L})}{P(S|\\vec{v},\\vec{L})} = \\dfrac{P(S,T|\\vec{v},\\vec{L})}{\\sum_{i=1}^n P(S,T_i|\\vec{v},\\vec{L})}.$$ Since we have already calculated $P(S,T|\\vec{v},\\vec{L})$ is exercise 2, we will directly use the result of $$P(S_j,T_i|\\vec{v},\\vec{L})=\\dfrac{v_{i}}{L_{i}}\\delta(S_j\\in T_{i}).$$ \n",
    "    - Therefore, the expected counts of transcript $T_i$ from one segment $S_j$ would be $$E(c_{T_i}|S_j,\\vec{v},\\vec{L}) =P(T_i|S_j,\\vec{v},\\vec{L})= \\dfrac{\\dfrac{v_{i}}{L_{i}}\\delta(S_j\\in T_{i})}{\\sum_{i'=1}^n \\dfrac{v_{i'}}{L_{i'}}\\delta(S_j\\in T_{i'})} $$ Then, $$E(c_{T_i}|\\vec{c_{S_j}},\\vec{v},\\vec{L}) = c_{S_j}E(T_i|S_j,\\vec{v},\\vec{L})=c_{S_j}P(T_i|S_j,\\vec{v},\\vec{L})$$\n",
    "    The total count of transcript $T_i$ would be $$E(c_{T_i}|\\vec{v},\\vec{L}) = \\sum_{j=1}^n c_{S_j}E(T_i|S_j,\\vec{v},\\vec{L}) = \\sum_{j=1}^n c_{S_j}P(T_i|S_j,\\vec{v},\\vec{L}) = \\sum_{j=1}^n c_{S_j}\\dfrac{P(S_j,T_i|\\vec{v},\\vec{L})}{\\sum_{i=1}^n P(S_j,T_i|\\vec{v},\\vec{L})} $$\n",
    "- **Maximization**: We are trying to update the abundance levels from the newly calculated expected transcript counts. The transcript counts represents how many observed reads are mapped to each of the transcripts isoforms. Then, the updated nucleotide abundances would just be $$v_i = \\dfrac{c_{T_i}}{\\sum_{i'=1}^n c_{T_i'}}$$"
   ]
  },
  {
   "cell_type": "code",
   "execution_count": 14,
   "metadata": {},
   "outputs": [],
   "source": [
    "def expectation(nuc_abunds,read_counts,lengths,transcript_isoforms):\n",
    "    \"\"\"\n",
    "    Obtain the expected segments mapped to each segments\n",
    "    :param nuc_abunds: a list of nucleotide abundance levels for each transcript isoform\n",
    "    :param read_counts: a list of counts of each read\n",
    "    :param lengths: a list of transcript lengths\n",
    "    :param transcript_isoforms: a 2d-list of the segment indices each transcript contains\n",
    "    :return: a list of the expected count of segments mapped to each transcript isoform\n",
    "    \"\"\"\n",
    "    t_num = len(nuc_abunds)\n",
    "    s_num = len(read_counts)\n",
    "    count_arr = np.zeros(t_num)\n",
    "    for s in range(s_num):\n",
    "        read_prob_list = np.zeros(t_num)\n",
    "        s_usage = []\n",
    "        for t in range(t_num):\n",
    "            if s in transcript_isoforms[t]:\n",
    "                s_usage.append(t)\n",
    "                read_prob_list[t] = nuc_abunds[t]/lengths[t]\n",
    "        read_prob_list = np.divide(read_prob_list, sum(read_prob_list))\n",
    "        total_read_counts = np.multiply(read_prob_list,read_counts[s])\n",
    "        for t in s_usage:\n",
    "            count_arr[t] += total_read_counts[t]\n",
    "    return count_arr\n",
    "    \n",
    "def maximizaton(transcript_counts):\n",
    "    \"\"\"\n",
    "    Update nucleotide abundance levels\n",
    "    :param transcript_counts: a list of the expected count of segments mapped to each transcript isoform\n",
    "    :return: a list of nucleotide abundance levels for each transcript isoform\n",
    "    \"\"\"\n",
    "    nuc_abunds = transcript_counts/sum(transcript_counts)\n",
    "    return nuc_abunds"
   ]
  },
  {
   "cell_type": "code",
   "execution_count": 15,
   "metadata": {},
   "outputs": [],
   "source": [
    "def EM(read_counts,lengths, max_iter = 5000, threshold=0.01):\n",
    "    \"\"\"\n",
    "    Run expectation and maximization algorithm to obtain the tau values\n",
    "    :param read_counts: a list of counts of each read\n",
    "    :param lengths: a list of transcript lengths\n",
    "    :param max_iters: the maximum number iterations of EM allowed\n",
    "    :param threshold: the difference threshold of log likelihood for convergence\n",
    "    :return: a list of log likelihoods for each iteration, the final transcript abundance levels\n",
    "    \"\"\"\n",
    "    s_num = len(read_counts)\n",
    "    t_num = len(lengths)\n",
    "    ts = get_transcript_isoforms(lengths,s_num)\n",
    "    initial_nuc_abunds = np.random.rand(10)\n",
    "    nuc_abunds = initial_nuc_abunds/ sum(initial_nuc_abunds)\n",
    "    ll = [log_likelihood(read_counts,ts,nuc_abunds,lengths)]\n",
    "    for _ in range(max_iter):\n",
    "        tc = expectation(nuc_abunds,read_counts,lengths,ts)\n",
    "        nuc_abunds = maximizaton(tc)\n",
    "        new_ll = log_likelihood(read_counts,ts,nuc_abunds,lengths)\n",
    "        prev_ll = ll[-1]\n",
    "        ll.append(new_ll)\n",
    "        if np.abs(new_ll - prev_ll) <= threshold:\n",
    "            break\n",
    "    return ll, get_transcript_abundances(nuc_abunds,lengths)\n"
   ]
  },
  {
   "cell_type": "markdown",
   "metadata": {},
   "source": [
    "Here, we have assembled our EM algorithm, we will first test it on the example data set."
   ]
  },
  {
   "cell_type": "code",
   "execution_count": 16,
   "metadata": {},
   "outputs": [
    {
     "data": {
      "image/png": "[encoded data removed]",
      "text/plain": [
       "<Figure size 640x480 with 1 Axes>"
      ]
     },
     "metadata": {},
     "output_type": "display_data"
    }
   ],
   "source": [
    "# Test EM on the example dataset\n",
    "lls_em, tau_em = EM(r,L)\n",
    "plt.plot(range(len(lls_em)),lls_em, label=\"EM ll\")\n",
    "plt.xlabel(\"Iteration\")\n",
    "plt.ylabel(\"Log likelihood\")\n",
    "plt.axhline(true_ll, color=\"r\", label=\"True ll\")\n",
    "plt.show()\n"
   ]
  },
  {
   "cell_type": "markdown",
   "metadata": {},
   "source": [
    "We see that our EM algorithm calculates the parameters which quickly make the log likelihood converge. \n",
    "\n",
    "Next, we perform it on the data from the `w09-data.out` file."
   ]
  },
  {
   "cell_type": "code",
   "execution_count": 17,
   "metadata": {},
   "outputs": [
    {
     "data": {
      "text/plain": [
       "(['Arc1',\n",
       "  'Arc2',\n",
       "  'Arc3',\n",
       "  'Arc4',\n",
       "  'Arc5',\n",
       "  'Arc6',\n",
       "  'Arc7',\n",
       "  'Arc8',\n",
       "  'Arc9',\n",
       "  'Arc10'],\n",
       " ['A', 'B', 'C', 'D', 'E', 'F', 'G', 'H', 'I', 'J'],\n",
       " ['a', 'b', 'c', 'd', 'e', 'f', 'g', 'h', 'i', 'j'],\n",
       " 1000000,\n",
       " array([ 97512, 268771, 249157,  76643,  33977,  40729,  43351,  76299,\n",
       "         73029,  40532]),\n",
       " array([3, 3, 3, 3, 3, 3, 4, 4, 2, 2]),\n",
       " False,\n",
       " array([0., 0., 0., 0., 0., 0., 0., 0., 0., 0.]),\n",
       " array([4, 2, 3, 4, 4, 3, 2, 2, 3, 3]))"
      ]
     },
     "execution_count": 17,
     "metadata": {},
     "output_type": "execute_result"
    }
   ],
   "source": [
    "# Read the data from the w09-data.out file\n",
    "Tlabel_d, Slabel_d, Rlabel_d, N_d, r_d,segusage_d,tau_known_d,tau_d,L_d = get_data(\"w09-data.out\")\n",
    "Tlabel_d, Slabel_d, Rlabel_d, N_d, r_d,segusage_d,tau_known_d,tau_d,L_d"
   ]
  },
  {
   "cell_type": "code",
   "execution_count": 18,
   "metadata": {},
   "outputs": [
    {
     "name": "stdout",
     "output_type": "stream",
     "text": [
      "The transcript abundances obtained by the EM algorithm are \n",
      "             tau\n",
      "Arc1   0.146507\n",
      "Arc2   0.496933\n",
      "Arc3   0.003992\n",
      "Arc4   0.048697\n",
      "Arc5   0.035288\n",
      "Arc6   0.021704\n",
      "Arc7   0.006393\n",
      "Arc8   0.134880\n",
      "Arc9   0.053977\n",
      "Arc10  0.051629\n",
      "The log likelihood is -2021936.788865.\n",
      "The most two abundant transcripts are \n",
      "            tau\n",
      "Arc2  0.496933\n",
      "Arc1  0.146507\n",
      "They have accounted for 0.643440 of the read population.\n",
      "The least two abundant transcripts are \n",
      "            tau\n",
      "Arc7  0.006393\n",
      "Arc3  0.003992\n"
     ]
    }
   ],
   "source": [
    "# Run EM algorithm to obtain the transcript abundances\n",
    "lls, tau_d = EM(r_d,L_d)\n",
    "tau_df = pd.DataFrame(tau_d,index=Tlabel_d,columns=[\"tau\"])\n",
    "print(\"The transcript abundances obtained by the EM algorithm are \\n\", tau_df)\n",
    "print(\"The log likelihood is %f.\" % lls[-1])\n",
    "sort_tau_df = tau_df.sort_values(by=[\"tau\"],ascending=False)\n",
    "print(\"The most two abundant transcripts are \\n\", sort_tau_df[:2])\n",
    "print(\"They have accounted for %f of the read population.\" %(sum(sort_tau_df[:2].values)))\n",
    "print(\"The least two abundant transcripts are \\n\", sort_tau_df[-2:])"
   ]
  },
  {
   "cell_type": "markdown",
   "metadata": {},
   "source": [
    "The conclusion of Lestrade et al. where Arc2 and Arc3 are strongly on is inaccurate. The reason behind this is that Lestrade et al. only take into account that for each read, the probabilities of generating it with the selection of each transcript isoform, $P(S,T_i|\\vec{v},\\vec{L})$, are not even among the transcripts, so they cannot assume even probability and simply evenly distributed to each transcript that is capable to generating S. We see this from the generative model that $$P(S,T_i|\\vec{v},\\vec{L}) = P(S|T_i,\\vec{L})P(T_i|\\vec{v}, \\vec{L}) = \\dfrac{v_i}{L_i}\\delta(S\\in T_i)$$ Indicates we cannot directly use $\\dfrac{1}{segusage(S)}$ as the probability of S is generated from transcript $T_i$ where S is in $T_i$. Therefore, Lestrade et al.'s method is incorrect."
   ]
  }
 ],
 "metadata": {
  "kernelspec": {
   "display_name": "Python 3.8.5 ('base')",
   "language": "python",
   "name": "python3"
  },
  "language_info": {
   "codemirror_mode": {
    "name": "ipython",
    "version": 3
   },
   "file_extension": ".py",
   "mimetype": "text/x-python",
   "name": "python",
   "nbconvert_exporter": "python",
   "pygments_lexer": "ipython3",
   "version": "3.8.5"
  },
  "orig_nbformat": 4,
  "vscode": {
   "interpreter": {
    "hash": "7cdf2b7fdd65634281fa6b52acc14e7f0570dad9a1e24e3436f0495181b08578"
   }
  }
 },
 "nbformat": 4,
 "nbformat_minor": 2
}
