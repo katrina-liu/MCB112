{
 "cells": [
  {
   "cell_type": "code",
   "execution_count": 160,
   "metadata": {},
   "outputs": [],
   "source": [
    "\"\"\"LiuKatrina_02.ipynb Harvard MCB 112 Problem Set 02: the adventure of the ten Arcs submitted by Xiao (Katrina) Liu\"\"\"\n",
    "__author__      = \"Katrina Liu\"\n",
    "__email__ = \"xliu@hms.harvard.edu\"\n",
    "__date__ = \"Sep 18, 2022\""
   ]
  },
  {
   "cell_type": "code",
   "execution_count": 161,
   "metadata": {},
   "outputs": [],
   "source": [
    "import numpy as np\n",
    "import pandas as pd\n",
    "import matplotlib.pyplot as plt"
   ]
  },
  {
   "cell_type": "markdown",
   "metadata": {},
   "source": [
    "# Exercise 1 Reproduction of Moriarty's Results with Kallisto\n",
    "First, we check the working version of kallisto on the server."
   ]
  },
  {
   "cell_type": "code",
   "execution_count": 162,
   "metadata": {},
   "outputs": [
    {
     "name": "stdout",
     "output_type": "stream",
     "text": [
      "kallisto 0.46.1\r\n",
      "\r\n",
      "Usage: kallisto <CMD> [arguments] ..\r\n",
      "\r\n",
      "Where <CMD> can be one of:\r\n",
      "\r\n",
      "    index         Builds a kallisto index \r\n",
      "    quant         Runs the quantification algorithm \r\n",
      "    bus           Generate BUS files for single-cell data \r\n",
      "    pseudo        Runs the pseudoalignment step \r\n",
      "    merge         Merges several batch runs \r\n",
      "    h5dump        Converts HDF5-formatted results to plaintext\r\n",
      "    inspect       Inspects and gives information about an index\r\n",
      "    version       Prints version information\r\n",
      "    cite          Prints citation information\r\n",
      "\r\n",
      "Running kallisto <CMD> without arguments prints usage information for <CMD>\r\n",
      "\r\n"
     ]
    }
   ],
   "source": [
    "! kallisto # Show current working version of kallisto"
   ]
  },
  {
   "cell_type": "markdown",
   "metadata": {},
   "source": [
    "Next, we prepare an index file from the transcriptomes in arc.fasta.gz."
   ]
  },
  {
   "cell_type": "code",
   "execution_count": 163,
   "metadata": {},
   "outputs": [
    {
     "name": "stdout",
     "output_type": "stream",
     "text": [
      "\r\n",
      "[build] loading fasta file arc.fasta.gz\r\n",
      "[build] k-mer length: 31\r\n",
      "[build] counting k-mers ... done.\r\n",
      "[build] building target de Bruijn graph ...  done \r\n",
      "[build] creating equivalence classes ...  done\r\n",
      "[build] target de Bruijn graph has 19 contigs and contains 10000 k-mers \r\n",
      "\r\n"
     ]
    }
   ],
   "source": [
    "! kallisto index -i arc.idx arc.fasta.gz # Build the index of transcriptomes"
   ]
  },
  {
   "cell_type": "markdown",
   "metadata": {},
   "source": [
    "We are then able to analyze the reads in the provided fastq file arc.fastq.gz."
   ]
  },
  {
   "cell_type": "code",
   "execution_count": 164,
   "metadata": {},
   "outputs": [
    {
     "name": "stdout",
     "output_type": "stream",
     "text": [
      "\n",
      "[quant] fragment length distribution is truncated gaussian with mean = 150, sd = 20\n",
      "[index] k-mer length: 31\n",
      "[index] number of targets: 10\n",
      "[index] number of k-mers: 10,000\n",
      "[index] number of equivalence classes: 26\n",
      "[quant] running in single-end mode\n",
      "[quant] will process file 1: arc.fastq.gz\n",
      "[quant] finding pseudoalignments for the reads ... done\n",
      "[quant] processed 100,000 reads, 99,981 reads pseudoaligned\n",
      "[   em] quantifying the abundances ... done\n",
      "[   em] the Expectation-Maximization algorithm ran for 81 rounds\n",
      "\n"
     ]
    }
   ],
   "source": [
    "# Analyze in single ended-mode with the provided arguments\n",
    "! kallisto quant -i arc.idx -o output --single -l 150 -s 20 arc.fastq.gz "
   ]
  },
  {
   "cell_type": "markdown",
   "metadata": {},
   "source": [
    "Finally, we have obtained the resulting abundance levels in the output, whose tpm levels are very similar to the TPM provided by Moriary."
   ]
  },
  {
   "cell_type": "code",
   "execution_count": 165,
   "metadata": {},
   "outputs": [
    {
     "name": "stdout",
     "output_type": "stream",
     "text": [
      "Output abundance information:\n",
      "  target_id  length  eff_length  est_counts       tpm\n",
      "0      Arc1    4000        3851     2781.96   20318.9\n",
      "1      Arc2    2000        1851     3585.12   54477.8\n",
      "2      Arc3    3000        2851    28613.50  282290.0\n",
      "3      Arc4    4000        3851    10412.40   76050.3\n",
      "4      Arc5    4000        3851    13042.90   95263.0\n",
      "5      Arc6    3000        2851     1195.26   11792.0\n",
      "6      Arc7    2000        1851     5864.45   89113.5\n",
      "7      Arc8    2000        1851     5717.54   86881.2\n",
      "8      Arc9    3000        2851     2909.53   28704.4\n",
      "9     Arc10    3000        2851    25858.30  255109.0\n"
     ]
    }
   ],
   "source": [
    "data = pd.read_csv (\"output/abundance.tsv\", sep = '\\t')\n",
    "print(\"Output abundance information:\")\n",
    "print(data)"
   ]
  },
  {
   "cell_type": "markdown",
   "metadata": {},
   "source": [
    "# Exercise 2\n",
    "## Part a: Similate Arc transcriptome and RNA-seq reads in a simple way\n",
    "\n",
    "Before the simulation functions, we want to setup the parameters used in this step."
   ]
  },
  {
   "cell_type": "code",
   "execution_count": 166,
   "metadata": {},
   "outputs": [],
   "source": [
    "# Set up the Arc locus \n",
    "# Parameters given by pset02 writeup\n",
    "S         = 10           # Number of segments in the Arc locus (A..J)\n",
    "T         = S            # Number of different transcripts (the same, one starting on each segment, 1..10)\n",
    "N         = 100000       # total number of observed reads we generate\n",
    "len_S     = 1000         # length of each segment (nucleotides)\n",
    "len_Arc   = len_S * S    # total length of the Arc locus (nucleotides)\n",
    "len_R     = 75           # read length\n",
    "# Lengths of each transcripts\n",
    "transcripts_lens = [4000,2000,3000,4000,4000,3000,2000,2000,3000,3000] \n",
    "# Abundance levels of each transcripts\n",
    "transcripts_abds = [0.008,0.039,0.291,0.112,0.127,0.008,0.059,0.060,0.022,\n",
    "                    0.273] \n",
    "transcripts_norm_abds = np.array(transcripts_abds)/sum(transcripts_abds)"
   ]
  },
  {
   "cell_type": "markdown",
   "metadata": {},
   "source": [
    "We then create the following methods to be used to generate random DNA sequences, creating transcripts from the generated DNA, and generate reads based on the transcripts."
   ]
  },
  {
   "cell_type": "code",
   "execution_count": 167,
   "metadata": {},
   "outputs": [],
   "source": [
    "def generate_dna(total_len, nuc_list = ['A','G','T','C'],\n",
    "                 nuc_prob = [0.25,0.25,0.25,0.25]):\n",
    "    \"\"\" Generate a random DNA string based on the provided list of bases and\n",
    "    list of probability of base appearences\n",
    "    :param total_len: the length of the DNA to be generated\n",
    "    :param nuc_list: the list of chars of the nucleotide bases\n",
    "    :param nuc_prob: the list of floats representing the weight/probability\n",
    "                    of the appearences of each bases\n",
    "    :return: a string of randomly generated DNA string\n",
    "    \"\"\"\n",
    "    result_dna = np.random.choice(nuc_list, total_len, p=nuc_prob)\n",
    "    return ''.join(result_dna)\n",
    "\n",
    "\n",
    "def generate_transcriptome(dna,seg_len, tr_lens):\n",
    "    \"\"\" Generate a list of transcripts of the given lengths based on the DNA,\n",
    "    each taking a different starting coordinate at the beginning of each \n",
    "    segment in the DNA. \n",
    "    :param dna: a string of provided DNA\n",
    "    :param seg_len: a number denoting the length of segment in DNA\n",
    "    :param tr_lens: a list of numbers each denoting the length of transcripts\n",
    "    :return: a list of string transcripts created from the template dna\n",
    "    \"\"\"\n",
    "    transcripts = []\n",
    "    for i in range(len(tr_lens)):\n",
    "        tr_len = tr_lens[i]\n",
    "        # Computing the starting position of the transcript\n",
    "        seg_start = i * seg_len \n",
    "        transcript = dna[seg_start:seg_start+tr_len]\n",
    "        # Considering circular permutaion\n",
    "        if seg_start+tr_len >= len(dna):\n",
    "            transcript += dna[:seg_start+tr_len-len(dna)]\n",
    "        transcripts.append(transcript)\n",
    "    return transcripts\n",
    "\n",
    "\n",
    "def write_transcript_fasta(transcripts,names, output_file, line_len=80):\n",
    "    \"\"\" Write the generated transcripts to a fasta file\n",
    "    :param transcripts: a list of string representation of transcripts\n",
    "    :param names: a list of strings of transcript names\n",
    "    :param output_file: a string of output file names\n",
    "    :param line_len: an integer of how many bases to be included in each line\n",
    "    \"\"\"\n",
    "    f = open(output_file, \"w\")\n",
    "    for i in range(len(transcripts)):\n",
    "        f.write(\">\"+names[i]+\"\\n\")\n",
    "        for idx in range(0,len(transcripts[i]),line_len):\n",
    "            f.write(transcripts[i][idx:idx+line_len]+\"\\n\")\n",
    "    f.close()\n",
    "            \n",
    "        \n",
    "def generate_read(transcripts, transcript_names, abundances, read_len, \n",
    "                  read_num):\n",
    "    \"\"\" Generate read_num many reads based on the given transcripts, \n",
    "    abundances, and length of reads. First, sample a transcript by abundance\n",
    "    levels. Then, sample a starting point by the effective length.\n",
    "    :param transcripts: a list of string rerpesentation of transcripts\n",
    "    :param transcript_names: a list of strings of names of transcripts\n",
    "    :param abundances: a list of floats each representing the abundance \n",
    "                        levels of each transcripts\n",
    "    :param read_len: the length of reads to be generated\n",
    "    :param read_num: the number of reads to be generated\n",
    "    :return reads: a list of strings representing each generated reads\n",
    "    :return read_names: a list of strings of names of each generated read\n",
    "    \"\"\"\n",
    "    reads = []\n",
    "    read_names = []\n",
    "    # Sample a list of indices of which transcripts the read takes from.\n",
    "    sample_transcripts = np.random.choice(len(transcripts),read_num, \n",
    "                                          p=abundances)\n",
    "    for i in range(len(sample_transcripts)):\n",
    "        sti = sample_transcripts[i]\n",
    "        # Possible starting position\n",
    "        eff_len = len(transcripts[sti])-read_len+1 \n",
    "        sample_start = np.random.choice(eff_len)\n",
    "        sample_read = transcripts[sti][sample_start:sample_start+read_len]\n",
    "        reads.append(sample_read)\n",
    "        read_names.append(\"%d:%s:%d:%d\"%(i+1, transcript_names[sti], \n",
    "                                         sample_start, read_len))\n",
    "    return reads, read_names\n",
    "        \n",
    "        \n",
    "def write_read_fastq(reads,read_names,output_file):\n",
    "    \"\"\" Write reads to a fastq formed file\n",
    "    :param reads: a list of strings each representing a read\n",
    "    :param read_names: a list of strings each representing the corresponding\n",
    "                        read name\n",
    "    :param output_file: a string of the output file name\n",
    "    \"\"\"\n",
    "    f = open(output_file, \"w\")\n",
    "    for i in range(len(reads)):\n",
    "        f.write(\"@\"+read_names[i]+\"\\n\")\n",
    "        f.write(reads[i]+\"\\n\")\n",
    "        f.write(\"+\\n\")\n",
    "        f.write(\"I\"*len(reads[i])+\"\\n\")\n",
    "    f.close()\n",
    "    "
   ]
  },
  {
   "cell_type": "markdown",
   "metadata": {},
   "source": [
    "After the methods are being created, we apply them to store the transcripts in the 'generated.fasta' file and store the generated reads in the 'generated.fastq' file."
   ]
  },
  {
   "cell_type": "code",
   "execution_count": 168,
   "metadata": {},
   "outputs": [],
   "source": [
    "sim_dna = generate_dna(len_Arc)\n",
    "trans = generate_transcriptome(sim_dna, len_S, transcripts_lens)\n",
    "tr_names = [\"Arc\"+chr(ord('A')+i) for i in range(S)]\n",
    "write_transcript_fasta(trans,tr_names,\"generated.fasta\")\n",
    "rs, rns = generate_read(trans,tr_names,transcripts_norm_abds,len_R, N)\n",
    "write_read_fastq(rs,rns,\"generated.fastq\")"
   ]
  },
  {
   "cell_type": "markdown",
   "metadata": {},
   "source": [
    "## Part b: alternative version\n",
    "We then try to implement a better version, a more realistic version, to simulate the results by taking into account of different factors."
   ]
  },
  {
   "cell_type": "code",
   "execution_count": 169,
   "metadata": {},
   "outputs": [],
   "source": [
    "# Additional parameter settings obtained from pset02 writeup\n",
    "alpha     = 0.999        # base calling accuracy (Q30 bases, typical of current Illumina)\n",
    "mean_frag = 150          # fragment size: mean (of a truncated Gaussian)\n",
    "sd_frag   = 20           # fragment size: stdev"
   ]
  },
  {
   "cell_type": "markdown",
   "metadata": {},
   "source": [
    "To achieve better simulation of creating reads, we need a couple of helper functions to achieve this goal, which includes computing the reverse complement of a DNA sequence, generate_read_bca, and a truncated Gaussian sampler."
   ]
  },
  {
   "cell_type": "code",
   "execution_count": 170,
   "metadata": {},
   "outputs": [],
   "source": [
    "def reverse_complement(dna_seq):\n",
    "    \"\"\" Computing the reverse complement of a input DNA sequence\n",
    "    :param dna_seq: a string representation of the input DNA sequence\n",
    "    :return: the reverse complement of the input sequence\n",
    "    \"\"\"\n",
    "    rc = \"\"\n",
    "    for base in dna_seq:\n",
    "        if base == 'A':\n",
    "            rc = 'T'+rc\n",
    "        elif base == 'T':\n",
    "            rc = 'A'+rc\n",
    "        elif base == 'G':\n",
    "            rc = 'C'+rc\n",
    "        elif base == 'C':\n",
    "            rc = 'G'+rc\n",
    "        else:\n",
    "            print(\"Invalid input DNA sequence with invalid base\", base)\n",
    "            return None\n",
    "    return rc\n",
    "\n",
    "\n",
    "def generate_read_bca(temp_dna, base_call_acc=0.999):\n",
    "    \"\"\" Generate a read based on the template read and also the provided base\n",
    "    call accuracy. We sample each base identical to the template read by \n",
    "    probability of the base call accuracy and each of the different bases by\n",
    "    the probability of (1-base call accuray)/3\n",
    "    :param temp_dna: a string representing the template DNA\n",
    "    :param base_call_acc: a float in [0,1] representing the probability of\n",
    "                            correctly generate the base.\n",
    "    :return: a string representing the sampled DNA with base calling error\n",
    "    \"\"\"\n",
    "    result_dna = \"\"\n",
    "    base_list = ['A','T','G','C']\n",
    "    for base in temp_dna:\n",
    "        base_weight = [base_call_acc if b == base else (1-base_call_acc)/3 for b in base_list]\n",
    "        result_base = np.random.choice(base_list,p=base_weight)\n",
    "        result_dna += result_base\n",
    "    return result_dna\n",
    "     \n",
    "\n",
    "def truncated_gaussian(m,sd,low,high):\n",
    "    \"\"\" Sampling a gaussian distribution between the low and high with mean\n",
    "    m and standard deviation sd\n",
    "    :param m: a float representing the mean\n",
    "    :param sd: a float representing the standard deviation\n",
    "    :param low: an integer of the lowest value that can be sampled\n",
    "    :param high: an integer of the highest value that can be sampled\n",
    "    :return: an integer sampled by the truncated gaussian distribution.\n",
    "    \"\"\"\n",
    "    while True:\n",
    "        fraglen = int(np.random.normal(m, sd))\n",
    "        if fraglen >= low: break\n",
    "    if fraglen > high: fraglen = high\n",
    "    return fraglen\n",
    "\n",
    "\n",
    "def generate_read_better_sim(transcripts, transcript_names, abundances, \n",
    "                      read_len, read_num, frag_len_mean=150, frag_len_sd=20, \n",
    "                      read_orient_rand=True, base_call_acc=0.999):\n",
    "    \"\"\" Generate reads with better simulations with more complicated factors.\n",
    "    :param transcripts: a list of string rerpesentation of transcripts\n",
    "    :param transcript_names: a list of strings of names of transcripts\n",
    "    :param abundances: a list of floats each representing the abundance \n",
    "                        levels of each transcripts\n",
    "    :param read_len: the length of reads to be generated\n",
    "    :param read_num: the number of reads to be generated\n",
    "    :param frag_len_mean: an integer of the mean of generated fragment lengths\n",
    "    :param frag_len_sd: an integer of the standard deviation of generated\n",
    "                        fragment lengths\n",
    "    :param read_orient_rand: a boolean value indicating whether to sample a\n",
    "                                random value determining the read's orient\n",
    "    :param base_call_acc: a float representing the base call accuracy\n",
    "    :return reads: a list of strings representing each generated reads\n",
    "    :return read_names: a list of strings of names of each generated read\n",
    "    \"\"\"\n",
    "    reads = []\n",
    "    read_names = []\n",
    "    # Sample a list of indices of which transcripts the read takes from.\n",
    "    sample_transcripts = np.random.choice(len(transcripts),read_num, \n",
    "                                          p=abundances)\n",
    "    for i in range(read_num):\n",
    "        sti = sample_transcripts[i]\n",
    "        # Calculate the sample fragment length based on a truncated gaussian\n",
    "        # distribution\n",
    "        fraglen = truncated_gaussian(frag_len_mean,frag_len_sd,read_len,\n",
    "                                     len(transcripts[sti]))\n",
    "        eff_len = len(transcripts[sti])-fraglen+1\n",
    "        sample_start = np.random.choice(eff_len)\n",
    "        sample_read = transcripts[sti][sample_start:sample_start+fraglen]\n",
    "        if read_orient_rand:\n",
    "            read_orient = np.random.choice(2)\n",
    "        else:\n",
    "            read_orient = 0\n",
    "        # Determine which orientation the read takes\n",
    "        if read_orient == 0:\n",
    "            sim_read_temp = sample_read[:read_len]\n",
    "        else:\n",
    "            sim_read_temp = reverse_complement(sample_read)[:read_len]\n",
    "        # Generate the read based on the template read and the base calling\n",
    "        # error\n",
    "        sim_read = generate_read_bca(sim_read_temp,base_call_acc)\n",
    "        read_name = \"%d:%s:%d:%d\"%(i+1, transcript_names[sti],sample_start,\n",
    "                                   read_len)\n",
    "        reads.append(sim_read)\n",
    "        read_names.append(read_name)\n",
    "    return reads, read_names\n"
   ]
  },
  {
   "cell_type": "markdown",
   "metadata": {},
   "source": [
    "Then, we apply the better simulation function to generate the reads, and we store the reads in a fastq file named 'generated_better_sim.fastq'."
   ]
  },
  {
   "cell_type": "code",
   "execution_count": 171,
   "metadata": {},
   "outputs": [],
   "source": [
    "rds, rdlens = generate_read_better_sim(trans,tr_names,transcripts_norm_abds,len_R, N)\n",
    "write_read_fastq(rs,rns,\"generated_better_sim.fastq\")"
   ]
  },
  {
   "cell_type": "markdown",
   "metadata": {},
   "source": [
    "# Exercise 3 Testing Kallisto\n",
    "To test kallisto, first we need to run it with our simulated data."
   ]
  },
  {
   "cell_type": "code",
   "execution_count": 172,
   "metadata": {},
   "outputs": [
    {
     "name": "stdout",
     "output_type": "stream",
     "text": [
      "\r\n",
      "[build] loading fasta file generated.fasta\r\n",
      "[build] k-mer length: 31\r\n",
      "[build] counting k-mers ... done.\r\n",
      "[build] building target de Bruijn graph ...  done \r\n",
      "[build] creating equivalence classes ...  done\r\n",
      "[build] target de Bruijn graph has 19 contigs and contains 10000 k-mers \r\n",
      "\r\n"
     ]
    }
   ],
   "source": [
    "!kallisto index -i generated.idx generated.fasta # Generate the index file"
   ]
  },
  {
   "cell_type": "code",
   "execution_count": 173,
   "metadata": {},
   "outputs": [
    {
     "name": "stdout",
     "output_type": "stream",
     "text": [
      "\n",
      "[quant] fragment length distribution is truncated gaussian with mean = 75, sd = 10\n",
      "[index] k-mer length: 31\n",
      "[index] number of targets: 10\n",
      "[index] number of k-mers: 10,000\n",
      "[index] number of equivalence classes: 26\n",
      "[quant] running in single-end mode\n",
      "[quant] will process file 1: generated.fastq\n",
      "[quant] finding pseudoalignments for the reads ... done\n",
      "[quant] processed 100,000 reads, 100,000 reads pseudoaligned\n",
      "[   em] quantifying the abundances ... done\n",
      "[   em] the Expectation-Maximization algorithm ran for 86 rounds\n",
      "\n"
     ]
    }
   ],
   "source": [
    "# Analyze the simple simulated data\n",
    "!kallisto quant -i generated.idx -o generated_output --single -l 75 -s 10 generated.fastq"
   ]
  },
  {
   "cell_type": "code",
   "execution_count": 174,
   "metadata": {},
   "outputs": [
    {
     "name": "stdout",
     "output_type": "stream",
     "text": [
      "\n",
      "[quant] fragment length distribution is truncated gaussian with mean = 150, sd = 20\n",
      "[index] k-mer length: 31\n",
      "[index] number of targets: 10\n",
      "[index] number of k-mers: 10,000\n",
      "[index] number of equivalence classes: 26\n",
      "[quant] running in single-end mode\n",
      "[quant] will process file 1: generated_better_sim.fastq\n",
      "[quant] finding pseudoalignments for the reads ... done\n",
      "[quant] processed 100,000 reads, 100,000 reads pseudoaligned\n",
      "[   em] quantifying the abundances ... done\n",
      "[   em] the Expectation-Maximization algorithm ran for 369 rounds\n",
      "\n"
     ]
    }
   ],
   "source": [
    "# Analyze the better version of the simulated data\n",
    "!kallisto quant -i generated.idx -o generated_better_sim_output --single -l 150 -s 20 generated_better_sim.fastq "
   ]
  },
  {
   "cell_type": "markdown",
   "metadata": {},
   "source": [
    "To compare the results, we need to look at what the TPM are supposed to be looking like based the abundance levels we used for simulation."
   ]
  },
  {
   "cell_type": "code",
   "execution_count": 175,
   "metadata": {},
   "outputs": [],
   "source": [
    "def tpm_from_abd(abundances,transcript_lens):\n",
    "    \"\"\" Calculate the transcript abundances in TPM units based on the\n",
    "    nucleotide abundance levels.\n",
    "    :param abundances: a list of floats between 0 and 1 representing the\n",
    "                        nucleotide abundance levels of each transcript\n",
    "    :param transcript_lens: a list of integers representing the length of\n",
    "                            each transcript\n",
    "    :return: a list of transcript abundances in unit TPM\n",
    "    \"\"\"\n",
    "    normed_vals = []\n",
    "    for i in range(len(abundances)):\n",
    "        normed_vals.append(abundances[i]/transcript_lens[i])\n",
    "    return np.array(normed_vals)*1000000/sum(normed_vals)"
   ]
  },
  {
   "cell_type": "markdown",
   "metadata": {},
   "source": [
    "Run the method on the nucleotide abundance levels we used to generate the simulated data and we get the TPMs:"
   ]
  },
  {
   "cell_type": "code",
   "execution_count": 176,
   "metadata": {},
   "outputs": [
    {
     "name": "stdout",
     "output_type": "stream",
     "text": [
      "[  5904.05904059  57564.57564576 286346.86346863  82656.82656827\n",
      "  93726.93726937   7872.07872079  87084.87084871  88560.88560886\n",
      "  21648.21648216 268634.68634686]\n"
     ]
    }
   ],
   "source": [
    "# Compute the expected tpm\n",
    "exp_tpm = tpm_from_abd(transcripts_norm_abds, transcripts_lens)\n",
    "print(exp_tpm)"
   ]
  },
  {
   "cell_type": "markdown",
   "metadata": {},
   "source": [
    "However, the resulting tpms of kallisto looks like the following, which are very different the expected tpms and incorrect. Even though from the figure, we can see a similar trend between the simulated tpms and expected tpm, but differences between smaller tpm values were erased by the scale of y axis. Looking at the data frames, the differences are actually noticeable."
   ]
  },
  {
   "cell_type": "code",
   "execution_count": 177,
   "metadata": {
    "scrolled": true
   },
   "outputs": [
    {
     "data": {
      "text/html": [
       "<div>\n",
       "<style scoped>\n",
       "    .dataframe tbody tr th:only-of-type {\n",
       "        vertical-align: middle;\n",
       "    }\n",
       "\n",
       "    .dataframe tbody tr th {\n",
       "        vertical-align: top;\n",
       "    }\n",
       "\n",
       "    .dataframe thead th {\n",
       "        text-align: right;\n",
       "    }\n",
       "</style>\n",
       "<table border=\"1\" class=\"dataframe\">\n",
       "  <thead>\n",
       "    <tr style=\"text-align: right;\">\n",
       "      <th></th>\n",
       "      <th>target_id</th>\n",
       "      <th>length</th>\n",
       "      <th>eff_length</th>\n",
       "      <th>est_counts</th>\n",
       "      <th>tpm</th>\n",
       "    </tr>\n",
       "  </thead>\n",
       "  <tbody>\n",
       "    <tr>\n",
       "      <th>0</th>\n",
       "      <td>ArcA</td>\n",
       "      <td>4000</td>\n",
       "      <td>3926</td>\n",
       "      <td>1667.12</td>\n",
       "      <td>12260.5</td>\n",
       "    </tr>\n",
       "    <tr>\n",
       "      <th>1</th>\n",
       "      <td>ArcB</td>\n",
       "      <td>2000</td>\n",
       "      <td>1926</td>\n",
       "      <td>3434.10</td>\n",
       "      <td>51481.0</td>\n",
       "    </tr>\n",
       "    <tr>\n",
       "      <th>2</th>\n",
       "      <td>ArcC</td>\n",
       "      <td>3000</td>\n",
       "      <td>2926</td>\n",
       "      <td>29131.20</td>\n",
       "      <td>287459.0</td>\n",
       "    </tr>\n",
       "    <tr>\n",
       "      <th>3</th>\n",
       "      <td>ArcD</td>\n",
       "      <td>4000</td>\n",
       "      <td>3926</td>\n",
       "      <td>10264.50</td>\n",
       "      <td>75488.1</td>\n",
       "    </tr>\n",
       "    <tr>\n",
       "      <th>4</th>\n",
       "      <td>ArcE</td>\n",
       "      <td>4000</td>\n",
       "      <td>3926</td>\n",
       "      <td>12928.50</td>\n",
       "      <td>95080.0</td>\n",
       "    </tr>\n",
       "    <tr>\n",
       "      <th>5</th>\n",
       "      <td>ArcF</td>\n",
       "      <td>3000</td>\n",
       "      <td>2926</td>\n",
       "      <td>1638.29</td>\n",
       "      <td>16166.2</td>\n",
       "    </tr>\n",
       "    <tr>\n",
       "      <th>6</th>\n",
       "      <td>ArcG</td>\n",
       "      <td>2000</td>\n",
       "      <td>1926</td>\n",
       "      <td>5558.10</td>\n",
       "      <td>83322.3</td>\n",
       "    </tr>\n",
       "    <tr>\n",
       "      <th>7</th>\n",
       "      <td>ArcH</td>\n",
       "      <td>2000</td>\n",
       "      <td>1926</td>\n",
       "      <td>5785.39</td>\n",
       "      <td>86729.6</td>\n",
       "    </tr>\n",
       "    <tr>\n",
       "      <th>8</th>\n",
       "      <td>ArcI</td>\n",
       "      <td>3000</td>\n",
       "      <td>2926</td>\n",
       "      <td>2715.27</td>\n",
       "      <td>26793.5</td>\n",
       "    </tr>\n",
       "    <tr>\n",
       "      <th>9</th>\n",
       "      <td>ArcJ</td>\n",
       "      <td>3000</td>\n",
       "      <td>2926</td>\n",
       "      <td>26877.50</td>\n",
       "      <td>265220.0</td>\n",
       "    </tr>\n",
       "  </tbody>\n",
       "</table>\n",
       "</div>"
      ],
      "text/plain": [
       "  target_id  length  eff_length  est_counts       tpm\n",
       "0      ArcA    4000        3926     1667.12   12260.5\n",
       "1      ArcB    2000        1926     3434.10   51481.0\n",
       "2      ArcC    3000        2926    29131.20  287459.0\n",
       "3      ArcD    4000        3926    10264.50   75488.1\n",
       "4      ArcE    4000        3926    12928.50   95080.0\n",
       "5      ArcF    3000        2926     1638.29   16166.2\n",
       "6      ArcG    2000        1926     5558.10   83322.3\n",
       "7      ArcH    2000        1926     5785.39   86729.6\n",
       "8      ArcI    3000        2926     2715.27   26793.5\n",
       "9      ArcJ    3000        2926    26877.50  265220.0"
      ]
     },
     "execution_count": 177,
     "metadata": {},
     "output_type": "execute_result"
    }
   ],
   "source": [
    "# Load simple simulation results\n",
    "simple_data = pd.read_csv (\"generated_output/abundance.tsv\", sep = '\\t')\n",
    "simple_data"
   ]
  },
  {
   "cell_type": "code",
   "execution_count": 178,
   "metadata": {},
   "outputs": [
    {
     "data": {
      "text/html": [
       "<div>\n",
       "<style scoped>\n",
       "    .dataframe tbody tr th:only-of-type {\n",
       "        vertical-align: middle;\n",
       "    }\n",
       "\n",
       "    .dataframe tbody tr th {\n",
       "        vertical-align: top;\n",
       "    }\n",
       "\n",
       "    .dataframe thead th {\n",
       "        text-align: right;\n",
       "    }\n",
       "</style>\n",
       "<table border=\"1\" class=\"dataframe\">\n",
       "  <thead>\n",
       "    <tr style=\"text-align: right;\">\n",
       "      <th></th>\n",
       "      <th>target_id</th>\n",
       "      <th>length</th>\n",
       "      <th>eff_length</th>\n",
       "      <th>est_counts</th>\n",
       "      <th>tpm</th>\n",
       "    </tr>\n",
       "  </thead>\n",
       "  <tbody>\n",
       "    <tr>\n",
       "      <th>0</th>\n",
       "      <td>ArcA</td>\n",
       "      <td>4000</td>\n",
       "      <td>3851</td>\n",
       "      <td>4087.990000</td>\n",
       "      <td>30056.000000</td>\n",
       "    </tr>\n",
       "    <tr>\n",
       "      <th>1</th>\n",
       "      <td>ArcB</td>\n",
       "      <td>2000</td>\n",
       "      <td>1851</td>\n",
       "      <td>5636.790000</td>\n",
       "      <td>86222.400000</td>\n",
       "    </tr>\n",
       "    <tr>\n",
       "      <th>2</th>\n",
       "      <td>ArcC</td>\n",
       "      <td>3000</td>\n",
       "      <td>2851</td>\n",
       "      <td>25042.800000</td>\n",
       "      <td>248703.000000</td>\n",
       "    </tr>\n",
       "    <tr>\n",
       "      <th>3</th>\n",
       "      <td>ArcD</td>\n",
       "      <td>4000</td>\n",
       "      <td>3851</td>\n",
       "      <td>11493.100000</td>\n",
       "      <td>84500.400000</td>\n",
       "    </tr>\n",
       "    <tr>\n",
       "      <th>4</th>\n",
       "      <td>ArcE</td>\n",
       "      <td>4000</td>\n",
       "      <td>3851</td>\n",
       "      <td>15631.800000</td>\n",
       "      <td>114929.000000</td>\n",
       "    </tr>\n",
       "    <tr>\n",
       "      <th>5</th>\n",
       "      <td>ArcF</td>\n",
       "      <td>3000</td>\n",
       "      <td>2851</td>\n",
       "      <td>0.009538</td>\n",
       "      <td>0.094719</td>\n",
       "    </tr>\n",
       "    <tr>\n",
       "      <th>6</th>\n",
       "      <td>ArcG</td>\n",
       "      <td>2000</td>\n",
       "      <td>1851</td>\n",
       "      <td>4837.940000</td>\n",
       "      <td>74002.900000</td>\n",
       "    </tr>\n",
       "    <tr>\n",
       "      <th>7</th>\n",
       "      <td>ArcH</td>\n",
       "      <td>2000</td>\n",
       "      <td>1851</td>\n",
       "      <td>5812.010000</td>\n",
       "      <td>88902.700000</td>\n",
       "    </tr>\n",
       "    <tr>\n",
       "      <th>8</th>\n",
       "      <td>ArcI</td>\n",
       "      <td>3000</td>\n",
       "      <td>2851</td>\n",
       "      <td>4431.780000</td>\n",
       "      <td>44012.500000</td>\n",
       "    </tr>\n",
       "    <tr>\n",
       "      <th>9</th>\n",
       "      <td>ArcJ</td>\n",
       "      <td>3000</td>\n",
       "      <td>2851</td>\n",
       "      <td>23025.700000</td>\n",
       "      <td>228671.000000</td>\n",
       "    </tr>\n",
       "  </tbody>\n",
       "</table>\n",
       "</div>"
      ],
      "text/plain": [
       "  target_id  length  eff_length    est_counts            tpm\n",
       "0      ArcA    4000        3851   4087.990000   30056.000000\n",
       "1      ArcB    2000        1851   5636.790000   86222.400000\n",
       "2      ArcC    3000        2851  25042.800000  248703.000000\n",
       "3      ArcD    4000        3851  11493.100000   84500.400000\n",
       "4      ArcE    4000        3851  15631.800000  114929.000000\n",
       "5      ArcF    3000        2851      0.009538       0.094719\n",
       "6      ArcG    2000        1851   4837.940000   74002.900000\n",
       "7      ArcH    2000        1851   5812.010000   88902.700000\n",
       "8      ArcI    3000        2851   4431.780000   44012.500000\n",
       "9      ArcJ    3000        2851  23025.700000  228671.000000"
      ]
     },
     "execution_count": 178,
     "metadata": {},
     "output_type": "execute_result"
    }
   ],
   "source": [
    "# Load better simulated results\n",
    "better_data = pd.read_csv (\"generated_better_sim_output/abundance.tsv\", sep = '\\t')\n",
    "better_data"
   ]
  },
  {
   "cell_type": "code",
   "execution_count": 179,
   "metadata": {},
   "outputs": [
    {
     "data": {
      "image/png": "[encoded data removed]",
      "text/plain": [
       "<Figure size 432x288 with 1 Axes>"
      ]
     },
     "metadata": {
      "needs_background": "light"
     },
     "output_type": "display_data"
    }
   ],
   "source": [
    "# Plot the simulated tpms with the expected tpms\n",
    "plt.figure()\n",
    "plt.plot(range(10), exp_tpm, label=\"Expected\")\n",
    "plt.plot(range(10), simple_data[\"tpm\"], label=\"Simple simulation\")\n",
    "plt.plot(range(10), better_data[\"tpm\"], label=\"Better simulation\")\n",
    "plt.legend()\n",
    "plt.show()"
   ]
  },
  {
   "cell_type": "markdown",
   "metadata": {},
   "source": [
    "# Exercise 4 Debugging Kallisto\n",
    "To figure out what is happening with kallisto, we will experiment with different values of the transcript lengths and abundance levels. We will first generate the DNA to be used for all experiments."
   ]
  },
  {
   "cell_type": "code",
   "execution_count": 180,
   "metadata": {},
   "outputs": [],
   "source": [
    "test_dna = sim_dna\n",
    "# Fixed variable\n",
    "tr_names = [\"Arc\"+chr(ord('A')+i) for i in range(S)]"
   ]
  },
  {
   "cell_type": "markdown",
   "metadata": {},
   "source": [
    "## 1. Controlling the abundance levels\n",
    "\n",
    "In the first experiment, we will control the abundance level to be the one provided from the write up and used in previous simulations. We tests with different transcript lengths."
   ]
  },
  {
   "cell_type": "code",
   "execution_count": 181,
   "metadata": {},
   "outputs": [],
   "source": [
    "# Test lengths of transcripts\n",
    "test_lens_0 = [2000]*10\n",
    "test_lens_1 = [4000]*10\n",
    "\n",
    "# Genearate reads for test 0\n",
    "trans_0 = generate_transcriptome(test_dna, len_S, test_lens_0)\n",
    "write_transcript_fasta(trans_0,tr_names,\"test_generated_0.fasta\")\n",
    "rs, rns = generate_read(trans_0,tr_names,transcripts_norm_abds,len_R, N)\n",
    "write_read_fastq(rs,rns,\"test_generated_0.fastq\")\n",
    "\n",
    "# Generate reads for test 1\n",
    "trans_1 = generate_transcriptome(test_dna, len_S, test_lens_1)\n",
    "write_transcript_fasta(trans_1,tr_names,\"test_generated_1.fasta\")\n",
    "rs, rns = generate_read(trans_1,tr_names,transcripts_norm_abds,len_R, N)\n",
    "write_read_fastq(rs,rns,\"test_generated_1.fastq\")"
   ]
  },
  {
   "cell_type": "markdown",
   "metadata": {},
   "source": [
    "Then, we run kallisto with the generated test reads."
   ]
  },
  {
   "cell_type": "code",
   "execution_count": 182,
   "metadata": {},
   "outputs": [
    {
     "name": "stdout",
     "output_type": "stream",
     "text": [
      "\n",
      "[build] loading fasta file test_generated_0.fasta\n",
      "[build] k-mer length: 31\n",
      "[build] counting k-mers ... done.\n",
      "[build] building target de Bruijn graph ...  done \n",
      "[build] creating equivalence classes ...  done\n",
      "[build] target de Bruijn graph has 21 contigs and contains 10000 k-mers \n",
      "\n",
      "\n",
      "[quant] fragment length distribution is truncated gaussian with mean = 75, sd = 10\n",
      "[index] k-mer length: 31\n",
      "[index] number of targets: 10\n",
      "[index] number of k-mers: 10,000\n",
      "[index] number of equivalence classes: 20\n",
      "[quant] running in single-end mode\n",
      "[quant] will process file 1: test_generated_0.fastq\n",
      "[quant] finding pseudoalignments for the reads ... done\n",
      "[quant] processed 100,000 reads, 100,000 reads pseudoaligned\n",
      "[   em] quantifying the abundances ... done\n",
      "[   em] the Expectation-Maximization algorithm ran for 52 rounds\n",
      "\n",
      "\n",
      "[build] loading fasta file test_generated_1.fasta\n",
      "[build] k-mer length: 31\n",
      "[build] counting k-mers ... done.\n",
      "[build] building target de Bruijn graph ...  done \n",
      "[build] creating equivalence classes ...  done\n",
      "[build] target de Bruijn graph has 21 contigs and contains 10000 k-mers \n",
      "\n",
      "\n",
      "[quant] fragment length distribution is truncated gaussian with mean = 75, sd = 10\n",
      "[index] k-mer length: 31\n",
      "[index] number of targets: 10\n",
      "[index] number of k-mers: 10,000\n",
      "[index] number of equivalence classes: 30\n",
      "[quant] running in single-end mode\n",
      "[quant] will process file 1: test_generated_1.fastq\n",
      "[quant] finding pseudoalignments for the reads ... done\n",
      "[quant] processed 100,000 reads, 100,000 reads pseudoaligned\n",
      "[   em] quantifying the abundances ... done\n",
      "[   em] the Expectation-Maximization algorithm ran for 64 rounds\n",
      "\n"
     ]
    }
   ],
   "source": [
    "# Run kallisto for test 0\n",
    "!kallisto index -i test_0.idx test_generated_0.fasta\n",
    "!kallisto quant -i test_0.idx -o test_0_output --single -l 75 -s 10 test_generated_0.fastq\n",
    "\n",
    "# Run kallisto for test 1\n",
    "!kallisto index -i test_1.idx test_generated_1.fasta\n",
    "!kallisto quant -i test_1.idx -o test_1_output --single -l 75 -s 10 test_generated_1.fastq\n"
   ]
  },
  {
   "cell_type": "code",
   "execution_count": 183,
   "metadata": {},
   "outputs": [],
   "source": [
    "# Reading test results and compute expected tpms\n",
    "test_0_result = pd.read_csv(\"test_0_output/abundance.tsv\", sep = '\\t')\n",
    "exp_0 = tpm_from_abd(transcripts_norm_abds,test_lens_0)\n",
    "test_1_result = pd.read_csv(\"test_1_output/abundance.tsv\", sep = '\\t')\n",
    "exp_1 = tpm_from_abd(transcripts_norm_abds,test_lens_1)"
   ]
  },
  {
   "cell_type": "code",
   "execution_count": 184,
   "metadata": {},
   "outputs": [
    {
     "data": {
      "text/html": [
       "<div>\n",
       "<style scoped>\n",
       "    .dataframe tbody tr th:only-of-type {\n",
       "        vertical-align: middle;\n",
       "    }\n",
       "\n",
       "    .dataframe tbody tr th {\n",
       "        vertical-align: top;\n",
       "    }\n",
       "\n",
       "    .dataframe thead th {\n",
       "        text-align: right;\n",
       "    }\n",
       "</style>\n",
       "<table border=\"1\" class=\"dataframe\">\n",
       "  <thead>\n",
       "    <tr style=\"text-align: right;\">\n",
       "      <th></th>\n",
       "      <th>Transcript name</th>\n",
       "      <th>Result Test 0 TPM</th>\n",
       "      <th>Expected Test 0 TPM</th>\n",
       "    </tr>\n",
       "  </thead>\n",
       "  <tbody>\n",
       "    <tr>\n",
       "      <th>0</th>\n",
       "      <td>ArcA</td>\n",
       "      <td>11591.10</td>\n",
       "      <td>8008.008008</td>\n",
       "    </tr>\n",
       "    <tr>\n",
       "      <th>1</th>\n",
       "      <td>ArcB</td>\n",
       "      <td>36289.90</td>\n",
       "      <td>39039.039039</td>\n",
       "    </tr>\n",
       "    <tr>\n",
       "      <th>2</th>\n",
       "      <td>ArcC</td>\n",
       "      <td>292932.00</td>\n",
       "      <td>291291.291291</td>\n",
       "    </tr>\n",
       "    <tr>\n",
       "      <th>3</th>\n",
       "      <td>ArcD</td>\n",
       "      <td>115145.00</td>\n",
       "      <td>112112.112112</td>\n",
       "    </tr>\n",
       "    <tr>\n",
       "      <th>4</th>\n",
       "      <td>ArcE</td>\n",
       "      <td>125482.00</td>\n",
       "      <td>127127.127127</td>\n",
       "    </tr>\n",
       "    <tr>\n",
       "      <th>5</th>\n",
       "      <td>ArcF</td>\n",
       "      <td>7601.78</td>\n",
       "      <td>8008.008008</td>\n",
       "    </tr>\n",
       "    <tr>\n",
       "      <th>6</th>\n",
       "      <td>ArcG</td>\n",
       "      <td>57185.90</td>\n",
       "      <td>59059.059059</td>\n",
       "    </tr>\n",
       "    <tr>\n",
       "      <th>7</th>\n",
       "      <td>ArcH</td>\n",
       "      <td>61084.70</td>\n",
       "      <td>60060.060060</td>\n",
       "    </tr>\n",
       "    <tr>\n",
       "      <th>8</th>\n",
       "      <td>ArcI</td>\n",
       "      <td>20906.60</td>\n",
       "      <td>22022.022022</td>\n",
       "    </tr>\n",
       "    <tr>\n",
       "      <th>9</th>\n",
       "      <td>ArcJ</td>\n",
       "      <td>271780.00</td>\n",
       "      <td>273273.273273</td>\n",
       "    </tr>\n",
       "  </tbody>\n",
       "</table>\n",
       "</div>"
      ],
      "text/plain": [
       "  Transcript name  Result Test 0 TPM  Expected Test 0 TPM\n",
       "0            ArcA           11591.10          8008.008008\n",
       "1            ArcB           36289.90         39039.039039\n",
       "2            ArcC          292932.00        291291.291291\n",
       "3            ArcD          115145.00        112112.112112\n",
       "4            ArcE          125482.00        127127.127127\n",
       "5            ArcF            7601.78          8008.008008\n",
       "6            ArcG           57185.90         59059.059059\n",
       "7            ArcH           61084.70         60060.060060\n",
       "8            ArcI           20906.60         22022.022022\n",
       "9            ArcJ          271780.00        273273.273273"
      ]
     },
     "execution_count": 184,
     "metadata": {},
     "output_type": "execute_result"
    }
   ],
   "source": [
    "# Display the results of test 0\n",
    "test_0_df = pd.DataFrame({\"Transcript name\":tr_names, \"Result Test 0 TPM\":test_0_result[\"tpm\"], \"Expected Test 0 TPM\":exp_0})\n",
    "test_0_df"
   ]
  },
  {
   "cell_type": "code",
   "execution_count": 185,
   "metadata": {},
   "outputs": [
    {
     "data": {
      "text/html": [
       "<div>\n",
       "<style scoped>\n",
       "    .dataframe tbody tr th:only-of-type {\n",
       "        vertical-align: middle;\n",
       "    }\n",
       "\n",
       "    .dataframe tbody tr th {\n",
       "        vertical-align: top;\n",
       "    }\n",
       "\n",
       "    .dataframe thead th {\n",
       "        text-align: right;\n",
       "    }\n",
       "</style>\n",
       "<table border=\"1\" class=\"dataframe\">\n",
       "  <thead>\n",
       "    <tr style=\"text-align: right;\">\n",
       "      <th></th>\n",
       "      <th>Transcript name</th>\n",
       "      <th>Result Test 1 TPM</th>\n",
       "      <th>Expected Test 1 TPM</th>\n",
       "    </tr>\n",
       "  </thead>\n",
       "  <tbody>\n",
       "    <tr>\n",
       "      <th>0</th>\n",
       "      <td>ArcA</td>\n",
       "      <td>19742.2</td>\n",
       "      <td>8008.008008</td>\n",
       "    </tr>\n",
       "    <tr>\n",
       "      <th>1</th>\n",
       "      <td>ArcB</td>\n",
       "      <td>37058.5</td>\n",
       "      <td>39039.039039</td>\n",
       "    </tr>\n",
       "    <tr>\n",
       "      <th>2</th>\n",
       "      <td>ArcC</td>\n",
       "      <td>285935.0</td>\n",
       "      <td>291291.291291</td>\n",
       "    </tr>\n",
       "    <tr>\n",
       "      <th>3</th>\n",
       "      <td>ArcD</td>\n",
       "      <td>111840.0</td>\n",
       "      <td>112112.112112</td>\n",
       "    </tr>\n",
       "    <tr>\n",
       "      <th>4</th>\n",
       "      <td>ArcE</td>\n",
       "      <td>131848.0</td>\n",
       "      <td>127127.127127</td>\n",
       "    </tr>\n",
       "    <tr>\n",
       "      <th>5</th>\n",
       "      <td>ArcF</td>\n",
       "      <td>15308.1</td>\n",
       "      <td>8008.008008</td>\n",
       "    </tr>\n",
       "    <tr>\n",
       "      <th>6</th>\n",
       "      <td>ArcG</td>\n",
       "      <td>51377.8</td>\n",
       "      <td>59059.059059</td>\n",
       "    </tr>\n",
       "    <tr>\n",
       "      <th>7</th>\n",
       "      <td>ArcH</td>\n",
       "      <td>54779.1</td>\n",
       "      <td>60060.060060</td>\n",
       "    </tr>\n",
       "    <tr>\n",
       "      <th>8</th>\n",
       "      <td>ArcI</td>\n",
       "      <td>27966.3</td>\n",
       "      <td>22022.022022</td>\n",
       "    </tr>\n",
       "    <tr>\n",
       "      <th>9</th>\n",
       "      <td>ArcJ</td>\n",
       "      <td>264145.0</td>\n",
       "      <td>273273.273273</td>\n",
       "    </tr>\n",
       "  </tbody>\n",
       "</table>\n",
       "</div>"
      ],
      "text/plain": [
       "  Transcript name  Result Test 1 TPM  Expected Test 1 TPM\n",
       "0            ArcA            19742.2          8008.008008\n",
       "1            ArcB            37058.5         39039.039039\n",
       "2            ArcC           285935.0        291291.291291\n",
       "3            ArcD           111840.0        112112.112112\n",
       "4            ArcE           131848.0        127127.127127\n",
       "5            ArcF            15308.1          8008.008008\n",
       "6            ArcG            51377.8         59059.059059\n",
       "7            ArcH            54779.1         60060.060060\n",
       "8            ArcI            27966.3         22022.022022\n",
       "9            ArcJ           264145.0        273273.273273"
      ]
     },
     "execution_count": 185,
     "metadata": {},
     "output_type": "execute_result"
    }
   ],
   "source": [
    "# Display the results of test 1\n",
    "test_1_df = pd.DataFrame({\"Transcript name\":tr_names, \"Result Test 1 TPM\":test_1_result[\"tpm\"], \"Expected Test 1 TPM\":exp_1})\n",
    "test_1_df"
   ]
  },
  {
   "cell_type": "code",
   "execution_count": 186,
   "metadata": {},
   "outputs": [
    {
     "data": {
      "image/png": "[encoded data removed]",
      "text/plain": [
       "<Figure size 864x432 with 2 Axes>"
      ]
     },
     "metadata": {
      "needs_background": "light"
     },
     "output_type": "display_data"
    }
   ],
   "source": [
    "# Plotting the resulting tpms and expected tpms\n",
    "plt.figure(figsize=(12,6))\n",
    "plt.subplot(121)\n",
    "plt.plot(range(10), test_0_result[\"tpm\"], label=\"Test 0\")\n",
    "plt.plot(range(10), exp_0, label=\"Expected Test 0\")\n",
    "plt.legend()\n",
    "plt.subplot(122)\n",
    "plt.plot(range(10), test_1_result[\"tpm\"], label=\"Test 1\")\n",
    "plt.plot(range(10), exp_1, label=\"Expected Test 1\")\n",
    "plt.legend()\n",
    "plt.show()"
   ]
  },
  {
   "cell_type": "markdown",
   "metadata": {},
   "source": [
    "From the data frames we can see that, the tpms generated from two tests align well with the expected tpm while the simple and better simulations. The produced figures does not show much information as the scale of y axis minmized the difference of smaller tpms. Then, considering how I build up the test dataset, where all transcripts length are being set to the same, I suspect that the difference in transcript lengths might be a factor affecting the tpms. Also, I noticed that with longer transcript length(4000nt), the resulting tpm differs more with the expected tpm comparing to the difference with shorter transcript length (2000nt).\n",
    "\n",
    "## 2. Experiment with transcripts with different lengths\n",
    "\n",
    "Based on our previous analysis, I designed several testing lists of transcript lengths with different values to see if this would actually impact the acccuracy of tpm."
   ]
  },
  {
   "cell_type": "code",
   "execution_count": 187,
   "metadata": {},
   "outputs": [],
   "source": [
    "# Test lengths of transcripts with different values\n",
    "test_2 = [3000,2000,2000,2000,2000,2000,2000,2000,2000,2000]\n",
    "test_3 = [4000,2000,2000,2000,2000,2000,2000,2000,2000,2000]\n",
    "test_4 = [4000,4000,2000,2000,2000,2000,2000,2000,2000,2000]"
   ]
  },
  {
   "cell_type": "markdown",
   "metadata": {},
   "source": [
    "After building test lists of transcript lengths, we conduct similar procedures with the previous experiment."
   ]
  },
  {
   "cell_type": "code",
   "execution_count": 188,
   "metadata": {},
   "outputs": [],
   "source": [
    "# Genearate reads for test 2\n",
    "trans_2 = generate_transcriptome(test_dna, len_S, test_2)\n",
    "write_transcript_fasta(trans_2,tr_names,\"test_generated_2.fasta\")\n",
    "rs, rns = generate_read(trans_2,tr_names,transcripts_norm_abds,len_R, N)\n",
    "write_read_fastq(rs,rns,\"test_generated_2.fastq\")\n",
    "\n",
    "# Generate reads for test 3\n",
    "trans_3 = generate_transcriptome(test_dna, len_S, test_3)\n",
    "write_transcript_fasta(trans_3,tr_names,\"test_generated_3.fasta\")\n",
    "rs, rns = generate_read(trans_3,tr_names,transcripts_norm_abds,len_R, N)\n",
    "write_read_fastq(rs,rns,\"test_generated_3.fastq\")\n",
    "\n",
    "# Generate reads for test 4\n",
    "trans_4 = generate_transcriptome(test_dna, len_S, test_4)\n",
    "write_transcript_fasta(trans_4,tr_names,\"test_generated_4.fasta\")\n",
    "rs, rns = generate_read(trans_4,tr_names,transcripts_norm_abds,len_R, N)\n",
    "write_read_fastq(rs,rns,\"test_generated_4.fastq\")"
   ]
  },
  {
   "cell_type": "code",
   "execution_count": 189,
   "metadata": {},
   "outputs": [
    {
     "name": "stdout",
     "output_type": "stream",
     "text": [
      "\n",
      "[build] loading fasta file test_generated_2.fasta\n",
      "[build] k-mer length: 31\n",
      "[build] counting k-mers ... done.\n",
      "[build] building target de Bruijn graph ...  done \n",
      "[build] creating equivalence classes ...  done\n",
      "[build] target de Bruijn graph has 20 contigs and contains 10000 k-mers \n",
      "\n",
      "\n",
      "[quant] fragment length distribution is truncated gaussian with mean = 75, sd = 10\n",
      "[index] k-mer length: 31\n",
      "[index] number of targets: 10\n",
      "[index] number of k-mers: 10,000\n",
      "[index] number of equivalence classes: 20\n",
      "[quant] running in single-end mode\n",
      "[quant] will process file 1: test_generated_2.fastq\n",
      "[quant] finding pseudoalignments for the reads ... done\n",
      "[quant] processed 100,000 reads, 100,000 reads pseudoaligned\n",
      "[   em] quantifying the abundances ... done\n",
      "[   em] the Expectation-Maximization algorithm ran for 52 rounds\n",
      "\n",
      "\n",
      "[build] loading fasta file test_generated_3.fasta\n",
      "[build] k-mer length: 31\n",
      "[build] counting k-mers ... done.\n",
      "[build] building target de Bruijn graph ...  done \n",
      "[build] creating equivalence classes ...  done\n",
      "[build] target de Bruijn graph has 20 contigs and contains 10000 k-mers \n",
      "\n",
      "\n",
      "[quant] fragment length distribution is truncated gaussian with mean = 75, sd = 10\n",
      "[index] k-mer length: 31\n",
      "[index] number of targets: 10\n",
      "[index] number of k-mers: 10,000\n",
      "[index] number of equivalence classes: 21\n",
      "[quant] running in single-end mode\n",
      "[quant] will process file 1: test_generated_3.fastq\n",
      "[quant] finding pseudoalignments for the reads ... done\n",
      "[quant] processed 100,000 reads, 100,000 reads pseudoaligned\n",
      "[   em] quantifying the abundances ... done\n",
      "[   em] the Expectation-Maximization algorithm ran for 75 rounds\n",
      "\n",
      "\n",
      "[build] loading fasta file test_generated_4.fasta\n",
      "[build] k-mer length: 31\n",
      "[build] counting k-mers ... done.\n",
      "[build] building target de Bruijn graph ...  done \n",
      "[build] creating equivalence classes ...  done\n",
      "[build] target de Bruijn graph has 19 contigs and contains 10000 k-mers \n",
      "\n",
      "\n",
      "[quant] fragment length distribution is truncated gaussian with mean = 75, sd = 10\n",
      "[index] k-mer length: 31\n",
      "[index] number of targets: 10\n",
      "[index] number of k-mers: 10,000\n",
      "[index] number of equivalence classes: 21\n",
      "[quant] running in single-end mode\n",
      "[quant] will process file 1: test_generated_4.fastq\n",
      "[quant] finding pseudoalignments for the reads ... done\n",
      "[quant] processed 100,000 reads, 100,000 reads pseudoaligned\n",
      "[   em] quantifying the abundances ... done\n",
      "[   em] the Expectation-Maximization algorithm ran for 52 rounds\n",
      "\n"
     ]
    }
   ],
   "source": [
    "# Run kallisto for test 2\n",
    "!kallisto index -i test_2.idx test_generated_2.fasta\n",
    "!kallisto quant -i test_2.idx -o test_2_output --single -l 75 -s 10 test_generated_2.fastq\n",
    "\n",
    "# Run kallisto for test 3\n",
    "!kallisto index -i test_3.idx test_generated_3.fasta\n",
    "!kallisto quant -i test_3.idx -o test_3_output --single -l 75 -s 10 test_generated_3.fastq\n",
    "\n",
    "# Run kallisto for test 4\n",
    "!kallisto index -i test_4.idx test_generated_4.fasta\n",
    "!kallisto quant -i test_4.idx -o test_4_output --single -l 75 -s 10 test_generated_4.fastq\n"
   ]
  },
  {
   "cell_type": "code",
   "execution_count": 190,
   "metadata": {},
   "outputs": [],
   "source": [
    "# Reading test results and compute expected tpms\n",
    "test_2_result = pd.read_csv(\"test_2_output/abundance.tsv\", sep = '\\t')\n",
    "exp_2 = tpm_from_abd(transcripts_norm_abds,test_2)\n",
    "test_3_result = pd.read_csv(\"test_3_output/abundance.tsv\", sep = '\\t')\n",
    "exp_3 = tpm_from_abd(transcripts_norm_abds,test_3)\n",
    "test_4_result = pd.read_csv(\"test_4_output/abundance.tsv\", sep = '\\t')\n",
    "exp_4 = tpm_from_abd(transcripts_norm_abds,test_4)"
   ]
  },
  {
   "cell_type": "code",
   "execution_count": 191,
   "metadata": {},
   "outputs": [
    {
     "data": {
      "text/html": [
       "<div>\n",
       "<style scoped>\n",
       "    .dataframe tbody tr th:only-of-type {\n",
       "        vertical-align: middle;\n",
       "    }\n",
       "\n",
       "    .dataframe tbody tr th {\n",
       "        vertical-align: top;\n",
       "    }\n",
       "\n",
       "    .dataframe thead th {\n",
       "        text-align: right;\n",
       "    }\n",
       "</style>\n",
       "<table border=\"1\" class=\"dataframe\">\n",
       "  <thead>\n",
       "    <tr style=\"text-align: right;\">\n",
       "      <th></th>\n",
       "      <th>Transcript name</th>\n",
       "      <th>Result Test 2 TPM</th>\n",
       "      <th>Expected Test 2 TPM</th>\n",
       "    </tr>\n",
       "  </thead>\n",
       "  <tbody>\n",
       "    <tr>\n",
       "      <th>0</th>\n",
       "      <td>ArcA</td>\n",
       "      <td>16993.80</td>\n",
       "      <td>5352.960856</td>\n",
       "    </tr>\n",
       "    <tr>\n",
       "      <th>1</th>\n",
       "      <td>ArcB</td>\n",
       "      <td>26816.90</td>\n",
       "      <td>39143.526263</td>\n",
       "    </tr>\n",
       "    <tr>\n",
       "      <th>2</th>\n",
       "      <td>ArcC</td>\n",
       "      <td>293860.00</td>\n",
       "      <td>292070.926731</td>\n",
       "    </tr>\n",
       "    <tr>\n",
       "      <th>3</th>\n",
       "      <td>ArcD</td>\n",
       "      <td>113966.00</td>\n",
       "      <td>112412.177986</td>\n",
       "    </tr>\n",
       "    <tr>\n",
       "      <th>4</th>\n",
       "      <td>ArcE</td>\n",
       "      <td>127977.00</td>\n",
       "      <td>127467.380395</td>\n",
       "    </tr>\n",
       "    <tr>\n",
       "      <th>5</th>\n",
       "      <td>ArcF</td>\n",
       "      <td>8610.93</td>\n",
       "      <td>8029.441285</td>\n",
       "    </tr>\n",
       "    <tr>\n",
       "      <th>6</th>\n",
       "      <td>ArcG</td>\n",
       "      <td>58362.20</td>\n",
       "      <td>59217.129475</td>\n",
       "    </tr>\n",
       "    <tr>\n",
       "      <th>7</th>\n",
       "      <td>ArcH</td>\n",
       "      <td>59160.00</td>\n",
       "      <td>60220.809635</td>\n",
       "    </tr>\n",
       "    <tr>\n",
       "      <th>8</th>\n",
       "      <td>ArcI</td>\n",
       "      <td>25113.80</td>\n",
       "      <td>22080.963533</td>\n",
       "    </tr>\n",
       "    <tr>\n",
       "      <th>9</th>\n",
       "      <td>ArcJ</td>\n",
       "      <td>269139.00</td>\n",
       "      <td>274004.683841</td>\n",
       "    </tr>\n",
       "  </tbody>\n",
       "</table>\n",
       "</div>"
      ],
      "text/plain": [
       "  Transcript name  Result Test 2 TPM  Expected Test 2 TPM\n",
       "0            ArcA           16993.80          5352.960856\n",
       "1            ArcB           26816.90         39143.526263\n",
       "2            ArcC          293860.00        292070.926731\n",
       "3            ArcD          113966.00        112412.177986\n",
       "4            ArcE          127977.00        127467.380395\n",
       "5            ArcF            8610.93          8029.441285\n",
       "6            ArcG           58362.20         59217.129475\n",
       "7            ArcH           59160.00         60220.809635\n",
       "8            ArcI           25113.80         22080.963533\n",
       "9            ArcJ          269139.00        274004.683841"
      ]
     },
     "execution_count": 191,
     "metadata": {},
     "output_type": "execute_result"
    }
   ],
   "source": [
    "# Display the results of test 2\n",
    "test_2_df = pd.DataFrame({\"Transcript name\":tr_names, \"Result Test 2 TPM\":test_2_result[\"tpm\"], \"Expected Test 2 TPM\":exp_2})\n",
    "test_2_df"
   ]
  },
  {
   "cell_type": "code",
   "execution_count": 192,
   "metadata": {},
   "outputs": [
    {
     "data": {
      "text/html": [
       "<div>\n",
       "<style scoped>\n",
       "    .dataframe tbody tr th:only-of-type {\n",
       "        vertical-align: middle;\n",
       "    }\n",
       "\n",
       "    .dataframe tbody tr th {\n",
       "        vertical-align: top;\n",
       "    }\n",
       "\n",
       "    .dataframe thead th {\n",
       "        text-align: right;\n",
       "    }\n",
       "</style>\n",
       "<table border=\"1\" class=\"dataframe\">\n",
       "  <thead>\n",
       "    <tr style=\"text-align: right;\">\n",
       "      <th></th>\n",
       "      <th>Transcript name</th>\n",
       "      <th>Result Test 3 TPM</th>\n",
       "      <th>Expected Test 3 TPM</th>\n",
       "    </tr>\n",
       "  </thead>\n",
       "  <tbody>\n",
       "    <tr>\n",
       "      <th>0</th>\n",
       "      <td>ArcA</td>\n",
       "      <td>11383.40</td>\n",
       "      <td>4020.100503</td>\n",
       "    </tr>\n",
       "    <tr>\n",
       "      <th>1</th>\n",
       "      <td>ArcB</td>\n",
       "      <td>33528.70</td>\n",
       "      <td>39195.979899</td>\n",
       "    </tr>\n",
       "    <tr>\n",
       "      <th>2</th>\n",
       "      <td>ArcC</td>\n",
       "      <td>290000.00</td>\n",
       "      <td>292462.311558</td>\n",
       "    </tr>\n",
       "    <tr>\n",
       "      <th>3</th>\n",
       "      <td>ArcD</td>\n",
       "      <td>112668.00</td>\n",
       "      <td>112562.814070</td>\n",
       "    </tr>\n",
       "    <tr>\n",
       "      <th>4</th>\n",
       "      <td>ArcE</td>\n",
       "      <td>128370.00</td>\n",
       "      <td>127638.190955</td>\n",
       "    </tr>\n",
       "    <tr>\n",
       "      <th>5</th>\n",
       "      <td>ArcF</td>\n",
       "      <td>8310.32</td>\n",
       "      <td>8040.201005</td>\n",
       "    </tr>\n",
       "    <tr>\n",
       "      <th>6</th>\n",
       "      <td>ArcG</td>\n",
       "      <td>60951.80</td>\n",
       "      <td>59296.482412</td>\n",
       "    </tr>\n",
       "    <tr>\n",
       "      <th>7</th>\n",
       "      <td>ArcH</td>\n",
       "      <td>59039.90</td>\n",
       "      <td>60301.507538</td>\n",
       "    </tr>\n",
       "    <tr>\n",
       "      <th>8</th>\n",
       "      <td>ArcI</td>\n",
       "      <td>25017.50</td>\n",
       "      <td>22110.552764</td>\n",
       "    </tr>\n",
       "    <tr>\n",
       "      <th>9</th>\n",
       "      <td>ArcJ</td>\n",
       "      <td>270730.00</td>\n",
       "      <td>274371.859296</td>\n",
       "    </tr>\n",
       "  </tbody>\n",
       "</table>\n",
       "</div>"
      ],
      "text/plain": [
       "  Transcript name  Result Test 3 TPM  Expected Test 3 TPM\n",
       "0            ArcA           11383.40          4020.100503\n",
       "1            ArcB           33528.70         39195.979899\n",
       "2            ArcC          290000.00        292462.311558\n",
       "3            ArcD          112668.00        112562.814070\n",
       "4            ArcE          128370.00        127638.190955\n",
       "5            ArcF            8310.32          8040.201005\n",
       "6            ArcG           60951.80         59296.482412\n",
       "7            ArcH           59039.90         60301.507538\n",
       "8            ArcI           25017.50         22110.552764\n",
       "9            ArcJ          270730.00        274371.859296"
      ]
     },
     "execution_count": 192,
     "metadata": {},
     "output_type": "execute_result"
    }
   ],
   "source": [
    "# Display the results of test 3\n",
    "test_3_df = pd.DataFrame({\"Transcript name\":tr_names, \"Result Test 3 TPM\":test_3_result[\"tpm\"], \"Expected Test 3 TPM\":exp_3})\n",
    "test_3_df"
   ]
  },
  {
   "cell_type": "code",
   "execution_count": 193,
   "metadata": {},
   "outputs": [
    {
     "data": {
      "text/html": [
       "<div>\n",
       "<style scoped>\n",
       "    .dataframe tbody tr th:only-of-type {\n",
       "        vertical-align: middle;\n",
       "    }\n",
       "\n",
       "    .dataframe tbody tr th {\n",
       "        vertical-align: top;\n",
       "    }\n",
       "\n",
       "    .dataframe thead th {\n",
       "        text-align: right;\n",
       "    }\n",
       "</style>\n",
       "<table border=\"1\" class=\"dataframe\">\n",
       "  <thead>\n",
       "    <tr style=\"text-align: right;\">\n",
       "      <th></th>\n",
       "      <th>Transcript name</th>\n",
       "      <th>Result Test 4 TPM</th>\n",
       "      <th>Expected Test 4 TPM</th>\n",
       "    </tr>\n",
       "  </thead>\n",
       "  <tbody>\n",
       "    <tr>\n",
       "      <th>0</th>\n",
       "      <td>ArcA</td>\n",
       "      <td>8904.14</td>\n",
       "      <td>4100.461302</td>\n",
       "    </tr>\n",
       "    <tr>\n",
       "      <th>1</th>\n",
       "      <td>ArcB</td>\n",
       "      <td>15101.10</td>\n",
       "      <td>19989.748847</td>\n",
       "    </tr>\n",
       "    <tr>\n",
       "      <th>2</th>\n",
       "      <td>ArcC</td>\n",
       "      <td>292417.00</td>\n",
       "      <td>298308.559713</td>\n",
       "    </tr>\n",
       "    <tr>\n",
       "      <th>3</th>\n",
       "      <td>ArcD</td>\n",
       "      <td>121754.00</td>\n",
       "      <td>114812.916453</td>\n",
       "    </tr>\n",
       "    <tr>\n",
       "      <th>4</th>\n",
       "      <td>ArcE</td>\n",
       "      <td>127884.00</td>\n",
       "      <td>130189.646335</td>\n",
       "    </tr>\n",
       "    <tr>\n",
       "      <th>5</th>\n",
       "      <td>ArcF</td>\n",
       "      <td>9706.38</td>\n",
       "      <td>8200.922604</td>\n",
       "    </tr>\n",
       "    <tr>\n",
       "      <th>6</th>\n",
       "      <td>ArcG</td>\n",
       "      <td>58888.40</td>\n",
       "      <td>60481.804203</td>\n",
       "    </tr>\n",
       "    <tr>\n",
       "      <th>7</th>\n",
       "      <td>ArcH</td>\n",
       "      <td>64265.00</td>\n",
       "      <td>61506.919528</td>\n",
       "    </tr>\n",
       "    <tr>\n",
       "      <th>8</th>\n",
       "      <td>ArcI</td>\n",
       "      <td>24302.80</td>\n",
       "      <td>22552.537160</td>\n",
       "    </tr>\n",
       "    <tr>\n",
       "      <th>9</th>\n",
       "      <td>ArcJ</td>\n",
       "      <td>276776.00</td>\n",
       "      <td>279856.483854</td>\n",
       "    </tr>\n",
       "  </tbody>\n",
       "</table>\n",
       "</div>"
      ],
      "text/plain": [
       "  Transcript name  Result Test 4 TPM  Expected Test 4 TPM\n",
       "0            ArcA            8904.14          4100.461302\n",
       "1            ArcB           15101.10         19989.748847\n",
       "2            ArcC          292417.00        298308.559713\n",
       "3            ArcD          121754.00        114812.916453\n",
       "4            ArcE          127884.00        130189.646335\n",
       "5            ArcF            9706.38          8200.922604\n",
       "6            ArcG           58888.40         60481.804203\n",
       "7            ArcH           64265.00         61506.919528\n",
       "8            ArcI           24302.80         22552.537160\n",
       "9            ArcJ          276776.00        279856.483854"
      ]
     },
     "execution_count": 193,
     "metadata": {},
     "output_type": "execute_result"
    }
   ],
   "source": [
    "# Display the results of test 4\n",
    "test_4_df = pd.DataFrame({\"Transcript name\":tr_names, \"Result Test 4 TPM\":test_4_result[\"tpm\"], \"Expected Test 4 TPM\":exp_4})\n",
    "test_4_df"
   ]
  },
  {
   "cell_type": "code",
   "execution_count": 194,
   "metadata": {},
   "outputs": [
    {
     "data": {
      "image/png": "[encoded data removed]",
      "text/plain": [
       "<Figure size 432x288 with 1 Axes>"
      ]
     },
     "metadata": {
      "needs_background": "light"
     },
     "output_type": "display_data"
    },
    {
     "data": {
      "image/png": "[encoded data removed]",
      "text/plain": [
       "<Figure size 432x288 with 1 Axes>"
      ]
     },
     "metadata": {
      "needs_background": "light"
     },
     "output_type": "display_data"
    },
    {
     "data": {
      "image/png": "[encoded data removed]",
      "text/plain": [
       "<Figure size 432x288 with 1 Axes>"
      ]
     },
     "metadata": {
      "needs_background": "light"
     },
     "output_type": "display_data"
    }
   ],
   "source": [
    "# Plotting the resulting tpms and expected tpms\n",
    "plt.figure()\n",
    "plt.plot(range(10), test_2_result[\"tpm\"], label=\"Test 2\")\n",
    "plt.plot(range(10), exp_2, label=\"Expected Test 2\")\n",
    "plt.legend()\n",
    "plt.show()\n",
    "plt.figure()\n",
    "plt.plot(range(10), test_3_result[\"tpm\"], label=\"Test 3\")\n",
    "plt.plot(range(10), exp_3, label=\"Expected Test 3\")\n",
    "plt.legend()\n",
    "plt.show()\n",
    "plt.figure()\n",
    "plt.plot(range(10), test_4_result[\"tpm\"], label=\"Test 4\")\n",
    "plt.plot(range(10), exp_4, label=\"Expected Test 4\")\n",
    "plt.legend()\n",
    "plt.show()"
   ]
  },
  {
   "cell_type": "markdown",
   "metadata": {},
   "source": [
    "Comparing between test 0 and 2, we see that increasing the length of transcript 0 results in a difference in tpm produced and expected for transcript 0 and 1. Similarly comparing test 0 and test 3, we found the same discovery. Looking at the test 3 and test 4, we see differences of tpms of transcript 0, 1, and 3. Therefore, I wonder that maybe the difference of tpms is not of underlying reason of the difference in expected tpm and produced tpm, but rather the overlapping of the transcripts, which kallisto did not take into account, produces a larger difference in distribution of the times each DNA segment were being considered as a template for reads, and therefore messed up the abundance levels. To test this assumption, I designed one final experiment with non-overlapping reads which produces a distribution corresponding to the abundance levels of how many times the segment were being considered as read template.\n",
    "\n",
    "## 3. Non-overlapping transcripts\n",
    "\n",
    "The most straight forward one would just be the 1000 for each transcript length."
   ]
  },
  {
   "cell_type": "code",
   "execution_count": 195,
   "metadata": {},
   "outputs": [
    {
     "name": "stdout",
     "output_type": "stream",
     "text": [
      "\n",
      "[build] loading fasta file test_generated_5.fasta\n",
      "[build] k-mer length: 31\n",
      "[build] counting k-mers ... done.\n",
      "[build] building target de Bruijn graph ...  done \n",
      "[build] creating equivalence classes ...  done\n",
      "[build] target de Bruijn graph has 10 contigs and contains 9700 k-mers \n",
      "\n",
      "\n",
      "[quant] fragment length distribution is truncated gaussian with mean = 75, sd = 10\n",
      "[index] k-mer length: 31\n",
      "[index] number of targets: 10\n",
      "[index] number of k-mers: 9,700\n",
      "[index] number of equivalence classes: 10\n",
      "[quant] running in single-end mode\n",
      "[quant] will process file 1: test_generated_5.fastq\n",
      "[quant] finding pseudoalignments for the reads ... done\n",
      "[quant] processed 100,000 reads, 99,898 reads pseudoaligned\n",
      "[   em] quantifying the abundances ... done\n",
      "[   em] the Expectation-Maximization algorithm ran for 52 rounds\n",
      "\n",
      "  Transcript name  Result Test 5 TPM  Expected Test 5 TPM\n",
      "0            ArcA            8008.17          8008.008008\n",
      "1            ArcB           38479.20         39039.039039\n",
      "2            ArcC          289495.00        291291.291291\n",
      "3            ArcD          110603.00        112112.112112\n",
      "4            ArcE          127981.00        127127.127127\n",
      "5            ArcF            7807.96          8008.008008\n",
      "6            ArcG           60591.80         59059.059059\n",
      "7            ArcH           61242.50         60060.060060\n",
      "8            ArcI           22152.60         22022.022022\n",
      "9            ArcJ          273639.00        273273.273273\n"
     ]
    },
    {
     "data": {
      "image/png": "[encoded data removed]",
      "text/plain": [
       "<Figure size 432x288 with 1 Axes>"
      ]
     },
     "metadata": {
      "needs_background": "light"
     },
     "output_type": "display_data"
    }
   ],
   "source": [
    "# Transcript lengths of test 5\n",
    "test_5 = [1000,1000,1000,1000,1000,1000,1000,1000,1000,1000]\n",
    "\n",
    "\n",
    "# Genearate reads for test 5\n",
    "trans_5 = generate_transcriptome(test_dna, len_S, test_5)\n",
    "write_transcript_fasta(trans_5,tr_names,\"test_generated_5.fasta\")\n",
    "rs, rns = generate_read(trans_5,tr_names,transcripts_norm_abds,len_R, N)\n",
    "write_read_fastq(rs,rns,\"test_generated_5.fastq\")\n",
    "\n",
    "\n",
    "# Run kallisto for test 5\n",
    "!kallisto index -i test_5.idx test_generated_5.fasta\n",
    "!kallisto quant -i test_5.idx -o test_5_output --single -l 75 -s 10 test_generated_5.fastq\n",
    "\n",
    "\n",
    "# Reading test results and compute expected tpms\n",
    "test_5_result = pd.read_csv(\"test_5_output/abundance.tsv\", sep = '\\t')\n",
    "exp_5 = tpm_from_abd(transcripts_norm_abds,test_5)\n",
    "\n",
    "\n",
    "# Display the results of test 5\n",
    "test_5_df = pd.DataFrame({\"Transcript name\":tr_names, \"Result Test 5 TPM\":test_5_result[\"tpm\"], \"Expected Test 5 TPM\":exp_5})\n",
    "print(test_5_df)\n",
    "\n",
    "\n",
    "# Plotting the resulting tpms and expected tpms\n",
    "plt.figure()\n",
    "plt.plot(range(10), test_5_result[\"tpm\"], label=\"Test 5\")\n",
    "plt.plot(range(10), exp_5, label=\"Expected Test 5\")\n",
    "plt.legend()\n",
    "plt.show()"
   ]
  },
  {
   "cell_type": "markdown",
   "metadata": {},
   "source": [
    "We see that with minimal overlapping of the transcripts, kallisto produces the correct results."
   ]
  }
 ],
 "metadata": {
  "kernelspec": {
   "display_name": "Python 3",
   "language": "python",
   "name": "python3"
  },
  "language_info": {
   "codemirror_mode": {
    "name": "ipython",
    "version": 3
   },
   "file_extension": ".py",
   "mimetype": "text/x-python",
   "name": "python",
   "nbconvert_exporter": "python",
   "pygments_lexer": "ipython3",
   "version": "3.8.5"
  }
 },
 "nbformat": 4,
 "nbformat_minor": 4
}
