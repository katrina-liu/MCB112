{
 "cells": [
  {
   "cell_type": "code",
   "execution_count": 30,
   "metadata": {},
   "outputs": [],
   "source": [
    "\"\"\"LiuKatrina_01.ipynb Harvard MCB 112 Problem Set 01 submitted by Xiao (Katrina) Liu\"\"\"\n",
    "__author__      = \"Katrina Liu\"\n",
    "__email__ = \"xliu@hms.harvard.edu\"\n",
    "__date__ = \"Sep 7, 2022\""
   ]
  },
  {
   "cell_type": "code",
   "execution_count": 31,
   "metadata": {},
   "outputs": [],
   "source": [
    "import matplotlib.pyplot as plt\n",
    "import numpy as np\n",
    "import sys\n",
    "import copy"
   ]
  },
  {
   "cell_type": "markdown",
   "metadata": {},
   "source": [
    "## Exercise 1\n",
    "\n",
    "We begin by constructing functions to parse the gene table files:"
   ]
  },
  {
   "cell_type": "code",
   "execution_count": 32,
   "metadata": {},
   "outputs": [],
   "source": [
    "def parse_gene_table(filename):\n",
    "    \"\"\"\n",
    "    Helper function parse the data retrieved from path filename\n",
    "    :param filename: file path of the dataset\n",
    "    :return: a dictionary where key is gene names and values are feature values from data\n",
    "    \"\"\"\n",
    "    # code modified from http://mcb112.org/w01/figure1.py\n",
    "    tpmdata    = {}                      \n",
    "    for line in open(filename):\n",
    "        if line[0] == '#': continue     \n",
    "        line   = line.rstrip('\\n')      \n",
    "        fields = line.split()           \n",
    "        tpmdata[fields[0]] = [float(s) for s in fields[1:]]\n",
    "    \n",
    "    return tpmdata"
   ]
  },
  {
   "cell_type": "markdown",
   "metadata": {},
   "source": [
    "Then we read the two given tables. Iterate through all keys from Moriaty's table and search in the Alder's table's key to find all different keys."
   ]
  },
  {
   "cell_type": "code",
   "execution_count": 33,
   "metadata": {},
   "outputs": [
    {
     "name": "stdout",
     "output_type": "stream",
     "text": [
      "['15-Sep', '2-Mar', '1-Mar', '10-Sep', '7-Mar', '4-Mar', '2-Sep', '11-Sep', '6-Mar', '11-Mar', '3-Mar', '8-Sep', '7-Sep', '14-Sep', '6-Sep', '1-Dec', '8-Mar', '5-Mar', '9-Mar', '12-Sep', '1-Sep', '4-Sep', '10-Mar', '9-Sep', '5-Sep', '3-Sep']\n"
     ]
    }
   ],
   "source": [
    "# Retrieve information from the two data tables\n",
    "moriaty_tab = parse_gene_table(\"Moriarty_SuppTable1\")\n",
    "adler_tab = parse_gene_table(\"Adler_SuppTable2\")\n",
    "\n",
    "missed_keys = [] # Store missed keys\n",
    "# Iterate through keys in Moriaty's table to see if they are in Adler's table\n",
    "for mkey in moriaty_tab.keys():\n",
    "    if mkey not in adler_tab.keys():\n",
    "        missed_keys.append(mkey)\n",
    "\n",
    "print(missed_keys)"
   ]
  },
  {
   "cell_type": "markdown",
   "metadata": {},
   "source": [
    "### Analysis\n",
    "Looking at the produced results of missing keys presented in Moriaty's table, we can see that the missing gene names only contains date information. This potentially could be an error when exporting data from Excel where Excel corrupts the data and modifies the gene names into the dates of collection or some other related date information."
   ]
  },
  {
   "cell_type": "markdown",
   "metadata": {},
   "source": [
    "## Exercise 2\n",
    "\n",
    "For each of the attributes, we proceed with the following procedure: find the gene names and variables and stored them as a list of tuples; sort the list based on the variables; pick the genes from the sorted list."
   ]
  },
  {
   "cell_type": "code",
   "execution_count": 34,
   "metadata": {},
   "outputs": [
    {
     "name": "stdout",
     "output_type": "stream",
     "text": [
      "['CCDC169-SOHLH2', 'DDX60L', 'LRRK1', 'SLC25A45', 'FARP1']\n"
     ]
    }
   ],
   "source": [
    "# Retrieve the top five genes with the highest mRNA synthesis rates\n",
    "synth_rate_list = [(gene_name, val[0]) for gene_name, val in adler_tab.items()]\n",
    "synth_rate_sorted = sorted(synth_rate_list, key=lambda x:x[1], reverse=True)\n",
    "synth_rate_sorted_genes = [val[0] for val in synth_rate_sorted]\n",
    "print(synth_rate_sorted_genes[:5])\n"
   ]
  },
  {
   "cell_type": "code",
   "execution_count": 35,
   "metadata": {},
   "outputs": [
    {
     "name": "stdout",
     "output_type": "stream",
     "text": [
      "['TFRC', 'SPINK8', 'DIRC1', 'PLA1A', 'SAMSN1']\n"
     ]
    }
   ],
   "source": [
    "# Retrieve the top five genes with the longest mRNA halflife\n",
    "halflife_list = [(gene_name, val[1]) for gene_name, val in adler_tab.items()]\n",
    "halflife_sorted = sorted(halflife_list, key=lambda x:x[1], reverse=True)\n",
    "halflife_sorted_genes = [val[0] for val in halflife_sorted]\n",
    "print(halflife_sorted_genes[:5])"
   ]
  },
  {
   "cell_type": "code",
   "execution_count": 36,
   "metadata": {},
   "outputs": [
    {
     "name": "stdout",
     "output_type": "stream",
     "text": [
      "['TFRC', 'SPINK8', 'DIRC1', 'PLA1A', 'RSPRY1']\n"
     ]
    }
   ],
   "source": [
    "# Retrieve the top five genes with thethe highest ratio of expression\n",
    "# at t=96 hours post-mortem vs. t=0 \n",
    "exp_ratio_96_0 = [(gene_name, val[4]/val[0]) for gene_name, val in moriaty_tab.items()]\n",
    "exp_ratio_96_0_sorted = sorted(exp_ratio_96_0, key=lambda x:x[1], reverse=True)\n",
    "exp_ratio_96_0_sorted_genes = [val[0] for val in exp_ratio_96_0_sorted]\n",
    "print(exp_ratio_96_0_sorted_genes[:5])"
   ]
  },
  {
   "cell_type": "markdown",
   "metadata": {},
   "source": [
    "## Exercise 3\n",
    "\n",
    "Lastly, we construct functions to merge the gene tables and output gene tables to a file."
   ]
  },
  {
   "cell_type": "code",
   "execution_count": 37,
   "metadata": {},
   "outputs": [],
   "source": [
    "def merge_gene_tab(tab1, tab2):\n",
    "    \"\"\"\n",
    "    Merge two gene tables into one where only shared gene names are included \n",
    "    along with concatenated features where features of table tab1 is followed \n",
    "    by the features of table tab2\n",
    "    :param tab1: the first gene table\n",
    "    :param tab2: the second gene table\n",
    "    :return: a table containing shared genes name of tab1 and tab2 and features\n",
    "    of tab1 and tab2\n",
    "    \"\"\"\n",
    "    output_tab = {}\n",
    "    for gene_name in tab1.keys():\n",
    "        if gene_name in tab2.keys():\n",
    "            output_tab[gene_name] = copy.copy(tab1[gene_name])\n",
    "            output_tab[gene_name].extend(tab2[gene_name])\n",
    "    return output_tab\n",
    "\n",
    "def output_gene_tab(tab, output_filename, headers=None):\n",
    "    \"\"\"\n",
    "    Output the information of a gene table into the designated output file path\n",
    "    :param tab: a gene table\n",
    "    :param output_filename: the output file path to store information of \n",
    "    the gene table\n",
    "    :param headers: a list of header strings to be stored in header row\n",
    "    \"\"\"\n",
    "    f = open(output_filename, \"w\")\n",
    "    # Write header row if headers is given\n",
    "    if headers is not None:\n",
    "        f.write(\"# gene_name \"+\" \".join(headers)+\"\\n\")\n",
    "    for gene in tab.keys():\n",
    "        f.write(gene+\" \"+\" \".join(map(str, tab[gene]))+\"\\n\")\n",
    "    f.close()"
   ]
  },
  {
   "cell_type": "code",
   "execution_count": 38,
   "metadata": {},
   "outputs": [],
   "source": [
    "# Create the expression ratio table\n",
    "expr_ratio_tab = {}\n",
    "for gene in moriaty_tab.keys():\n",
    "    exprs = moriaty_tab[gene]\n",
    "    expr_ratio_tab[gene] = [exprs[1]/exprs[0],exprs[2]/exprs[0],\n",
    "                            exprs[3]/exprs[0],exprs[4]/exprs[0]]\n",
    "    \n",
    "merged_tab = merge_gene_tab(expr_ratio_tab,adler_tab) # Merge the two tables\n",
    "# Output the merged table\n",
    "output_gene_tab(merged_tab, \"Merged_Table\", \n",
    "                headers=[\"12h/0h\",\"24h/0h\",\"48h/0h\",\"96h/0h\",\"synth_rate\",\n",
    "                         \"halflife\"])"
   ]
  },
  {
   "cell_type": "markdown",
   "metadata": {},
   "source": [
    "### Exploring Data and Analysis\n",
    "From the results I extracted from exercise 2, I noticed that the genes with higher expression ratios also in the group of genes with higher half life. By plotting the expression ratios against half lives, we can see the following resulting plot:"
   ]
  },
  {
   "cell_type": "code",
   "execution_count": 39,
   "metadata": {},
   "outputs": [
    {
     "data": {
      "image/png": "[encoded data removed]",
      "text/plain": [
       "<Figure size 432x288 with 1 Axes>"
      ]
     },
     "metadata": {
      "needs_background": "light"
     },
     "output_type": "display_data"
    }
   ],
   "source": [
    "import matplotlib.pyplot as plt\n",
    "\n",
    "expr_ratio_96 = [val[3] for val in merged_tab.values()]\n",
    "halflife = [val[5] for val in merged_tab.values()]\n",
    "plt.figure()\n",
    "plt.scatter(expr_ratio_96,halflife)\n",
    "plt.xlabel(\"Half life\")\n",
    "plt.ylabel(\"96h/0h Expression ratio\")\n",
    "plt.title(\"Dead Sand Mouse mRNA Expression Ratio of 96h and 0h vs Cell Half life\")\n",
    "plt.show()\n"
   ]
  },
  {
   "cell_type": "markdown",
   "metadata": {},
   "source": [
    "The plot confirms our idea of the longer the half life of the cell is, the higher the expression ration is. Also, the plot seems to demonstrate a logrithmic relation in between. Considering the mRNA level at steady state, the synthesis rate and decay rate are fixed. However, since the cells are dying, the synthesis rate will gradually decrease to zero, so that at 96h, the expression rate is only related to the decay rate. Therefore, we are able to explain this association."
   ]
  },
  {
   "cell_type": "markdown",
   "metadata": {},
   "source": [
    "However, the reason of the increase of the expressions level might be TPM are calculated in a normalized way, where it only represents the normalized expressions. Therefore, it is possible that with the total number of mapped counts decreasing and the total cell number decreasing, the expression increased by cell number decreasing at a higher rate. "
   ]
  }
 ],
 "metadata": {
  "kernelspec": {
   "display_name": "Python 3",
   "language": "python",
   "name": "python3"
  },
  "language_info": {
   "codemirror_mode": {
    "name": "ipython",
    "version": 3
   },
   "file_extension": ".py",
   "mimetype": "text/x-python",
   "name": "python",
   "nbconvert_exporter": "python",
   "pygments_lexer": "ipython3",
   "version": "3.8.5"
  }
 },
 "nbformat": 4,
 "nbformat_minor": 4
}
