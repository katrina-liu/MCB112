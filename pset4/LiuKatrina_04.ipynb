{
 "cells": [
  {
   "cell_type": "code",
   "execution_count": 58,
   "metadata": {},
   "outputs": [],
   "source": [
    "\"\"\"LiuKatrina_04.ipynb Harvard MCB 112 Problem Set 04: a plague of sand mice submitted by Xiao (Katrina) Liu\"\"\"\n",
    "__author__      = \"Katrina Liu\"\n",
    "__email__ = \"xliu@hms.harvard.edu\"\n",
    "__date__ = \"Sep 28, 2022\""
   ]
  },
  {
   "cell_type": "code",
   "execution_count": 59,
   "metadata": {},
   "outputs": [],
   "source": [
    "import matplotlib.pyplot as plt\n",
    "import numpy as np"
   ]
  },
  {
   "cell_type": "markdown",
   "metadata": {},
   "source": [
    "# Exercise 1: Testing Moriarty's Method\n",
    "First, we implement Moriarty's machine learning method where $M(S) = (S.count(A)+S.count(T)) - (S.count(C)+S.count(G))$."
   ]
  },
  {
   "cell_type": "code",
   "execution_count": 60,
   "metadata": {},
   "outputs": [],
   "source": [
    "def moriarty_score(sequence):\n",
    "    \"\"\"\n",
    "    Calculate the prediction score described by Moriarty, where we add 1 for each A, T and -1 for each C, G\n",
    "    :param sequence: a string representing the input sequence\n",
    "    :return: an integer representing the Moriarty's score\n",
    "    \"\"\"\n",
    "    score = 0\n",
    "    for s in sequence:\n",
    "        if s == \"A\" or s == \"T\":\n",
    "            score += 1\n",
    "        elif s == \"G\" or s == \"C\":\n",
    "            score -= 1\n",
    "    return score"
   ]
  },
  {
   "cell_type": "markdown",
   "metadata": {},
   "source": [
    "We then need to read the fasta files, extract the pathogen sequences and sandmouse sequences, and obtain the scores of them by Moriarty's method. "
   ]
  },
  {
   "cell_type": "code",
   "execution_count": 61,
   "metadata": {},
   "outputs": [],
   "source": [
    "def read_fasta(filename):\n",
    "    \"\"\"\n",
    "    Read the fasta file and extract all sequences\n",
    "    :param filename: the string of path to the fasta file\n",
    "    :return: a list of strings of sequences extracted\n",
    "    \"\"\"\n",
    "    sequences = []\n",
    "    f = open(filename)\n",
    "    seq = \"\"\n",
    "    for line in f.read().split(\"\\n\"):\n",
    "        if line.startswith(\">\"):\n",
    "            if len(seq) > 0:\n",
    "                sequences.append(seq)\n",
    "            seq = \"\"\n",
    "        else:\n",
    "            seq += line\n",
    "    f.close()\n",
    "    return sequences"
   ]
  },
  {
   "cell_type": "code",
   "execution_count": 62,
   "metadata": {},
   "outputs": [],
   "source": [
    "# Loading the pathogen reads and sandmouse reads\n",
    "path_seqs = read_fasta(\"pathogen.fa\")\n",
    "sandmouse_seqs = read_fasta(\"sandmouse.fa\")\n",
    "\n",
    "# Calculating the Moriarty's scores for pathogen reads and sandmouse reads\n",
    "path_scores = [moriarty_score(s) for s in path_seqs]\n",
    "sandmouse_scores = [moriarty_score(s) for s in sandmouse_seqs]"
   ]
  },
  {
   "cell_type": "markdown",
   "metadata": {},
   "source": [
    "After we have the scores, we can plot out the histograms of distribution of the scores."
   ]
  },
  {
   "cell_type": "code",
   "execution_count": 63,
   "metadata": {},
   "outputs": [
    {
     "data": {
      "text/plain": [
       "Text(0, 0.5, 'Frequency')"
      ]
     },
     "execution_count": 63,
     "metadata": {},
     "output_type": "execute_result"
    },
    {
     "data": {
      "image/png": "[encoded data removed]",
      "text/plain": [
       "<Figure size 432x288 with 1 Axes>"
      ]
     },
     "metadata": {
      "needs_background": "light"
     },
     "output_type": "display_data"
    }
   ],
   "source": [
    "# Plot the histograms of frequency of scores for both sets of sequences\n",
    "plt.hist(path_scores,density=True,alpha=0.5, label=\"pathgen\")\n",
    "plt.hist(sandmouse_scores,density=True,alpha=0.5, label=\"sand mouse\")\n",
    "plt.title(\"Distribution of Moriarty's Scores of Pathogen and Sand Mouse Reads\")\n",
    "plt.legend()\n",
    "plt.xlabel(\"Moriarty's Score\")\n",
    "plt.ylabel(\"Frequency\")"
   ]
  },
  {
   "cell_type": "markdown",
   "metadata": {},
   "source": [
    "We can see that the distributions of pathogen sequences scores and sand mouse sequence scores overlay heavily, suggesting that Moriarty's score can hardly serve as a metric to distinguish the two data sets.\n",
    "\n",
    "To plot out the ROC curve, we first need to use different threshold values to collect as many pairs of sensitivity values and false positive rate values as possible."
   ]
  },
  {
   "cell_type": "code",
   "execution_count": 64,
   "metadata": {},
   "outputs": [],
   "source": [
    "def thresholding(t, hypo):\n",
    "    \"\"\"\n",
    "    Use the given threshold t to count how many positive hypotheses and negative hypotheses from all given hypotheses\n",
    "    :param t: a numeric threshold\n",
    "    :param hypo: a list of scores\n",
    "    :return: a count for positive hypotheses, a count for negative hypotheses\n",
    "    \"\"\"\n",
    "    pos = 0\n",
    "    neg = 0\n",
    "    for h in hypo:\n",
    "        if h > t:\n",
    "            pos += 1\n",
    "        else:\n",
    "            neg += 1\n",
    "    return pos, neg\n",
    "\n",
    "def calc_roc(h1, h2, gap=1):\n",
    "    \"\"\"\n",
    "    Calculate the sensitivity and false positive rate from given the scores from the two hypotheses H1 and H2, where H2 are the true null hypotheses\n",
    "    :param h1: a list of scores from non-null hypotheses\n",
    "    :param h2: a list of scores from null hypotheses\n",
    "    :param gap: a integer value for the inverse of stepping the threshold values\n",
    "    :return: a float representing the sensitivity, a float representing the false positive rate\n",
    "    \"\"\"\n",
    "    rmax = int(np.ceil(max(max(h1), max(h2))))\n",
    "    rmin = int(np.floor(min(min(h1), min(h2))))\n",
    "    t_count = len(h1)\n",
    "    n_count = len(h2)\n",
    "    sens = []\n",
    "    false_pos = []\n",
    "    for r in range(rmin*gap, rmax*gap+1, 1):\n",
    "        t = r/gap\n",
    "        tp, fn = thresholding(t, h1)\n",
    "        fp, tn = thresholding(t, h2)\n",
    "        sens.append(tp/t_count)\n",
    "        false_pos.append(fp/n_count)\n",
    "    return sens, false_pos"
   ]
  },
  {
   "cell_type": "code",
   "execution_count": 65,
   "metadata": {},
   "outputs": [],
   "source": [
    "# Calculate the sensitivity and false positive rate from pathogen and sandmouse Moriarty's scores\n",
    "sensitivity_m, false_positive_rate_m = calc_roc(path_scores, sandmouse_scores,10)"
   ]
  },
  {
   "cell_type": "markdown",
   "metadata": {},
   "source": [
    "Then, we are able to simulate the actual ROC plot with the collected values."
   ]
  },
  {
   "cell_type": "code",
   "execution_count": 66,
   "metadata": {},
   "outputs": [
    {
     "data": {
      "text/plain": [
       "Text(0, 0.5, 'Sensitivity')"
      ]
     },
     "execution_count": 66,
     "metadata": {},
     "output_type": "execute_result"
    },
    {
     "data": {
      "image/png": "[encoded data removed]",
      "text/plain": [
       "<Figure size 432x288 with 1 Axes>"
      ]
     },
     "metadata": {
      "needs_background": "light"
     },
     "output_type": "display_data"
    }
   ],
   "source": [
    "# Plotting the roc curve of Moriarty's method\n",
    "plt.plot(false_positive_rate_m, sensitivity_m)\n",
    "plt.title(\"ROC Curve of Moriarty's Method\")\n",
    "plt.xlabel(\"False Positive Rate\")\n",
    "plt.ylabel(\"Sensitivity\")"
   ]
  },
  {
   "cell_type": "markdown",
   "metadata": {},
   "source": [
    "## Analysis\n",
    "We can see that by comparing the score distributions of the pathogen reads and sand mouse reads, Moriarty's method does not do a good job in distinguishing the groups. The ROC curve further proves the claim, where Moriarty's method is approximatedly random guessing. The results are different because Moriarty uses randomly constructed gene sequences with the same probability of occurrence for each of the nucleotides. Each individual nucleotide is generated independently. Therefore, $$\\mathbb{E}[M(S)] = \\mathbb{E}[S.count(A)]+\\mathbb{E}[S.count(T)]-\\mathbb{E}[S.count(G)]-\\mathbb{E}[S.count(C)],$$ which is equal to $$len(S) \\mathbb{P}(A) + len(S) \\mathbb{P}(T) -len(S) \\mathbb{P}(G)-len(S) \\mathbb{P}(C) $$\n",
    "$$= len(S)(\\mathbb{P}(A)+\\mathbb{P}(T)-\\mathbb{P}(G)-\\mathbb{P}(C)) = len(S)\\times 0 = 0$$\n",
    "Therefore, the distribution of scores of randomly generated sequences should be centered at 0. However, for the real sequences, the distribution of nucleotides in the sequence might not be independent and might not be random. Therefore, real sequence reads will not be completely unbiased in nucleotide counts. My results are obtained using actual sandmouse sequences, which is also affected by the bias of nucleotide counts. Therefore, as nucleotide counts bias is not a distinguishable feature of pathogen reads and normal reads, Moriarty's method does not work."
   ]
  },
  {
   "cell_type": "markdown",
   "metadata": {},
   "source": [
    "# Exercise 2: Second Order Markov Model\n",
    "Since Moriarty's method does not account for the classification of the pathogen reads and normal sand mouse reads, we will implement a second order Markov model to attempt to classify the reads. Using the second order Markov model, we can express the probability of a read $S = x_1x_2x_3...x_L$ appearing as $$\\mathbb{P}(x_1x_2x_3...x_L) = \\mathbb{P}(x_1x_2)\\prod_{i=3}^{L}\\mathbb{P}(x_i|x_{i-2}x_{i-1})$$"
   ]
  },
  {
   "cell_type": "code",
   "execution_count": 67,
   "metadata": {},
   "outputs": [],
   "source": [
    "def second_order_markov(seq, two_mer_probs, cond_probs):\n",
    "    \"\"\"\n",
    "    An implementation of the second order markov model by calculating the probability of seq occurs given the model consisting of two mer probabilties and conditional probabilities\n",
    "    :param seq: a string representing the input sequence\n",
    "    :param two_mer_probs: a dictionary with keys representing every possible two mers and values representing the probability of occurrence of the key two mer\n",
    "    :param cond_probs: a dictionary with keys representing each nucleotide and values of dictionaries of keys as two mers and values as probabilities of each two mer occurs as the preceeding two mer of the nucleotide\n",
    "    :return: a float value of probability of occurrence of seq by the second order markov model\n",
    "    \"\"\"\n",
    "    if len(seq) == 0:\n",
    "        return 1\n",
    "    elif len(seq) == 1:\n",
    "        return 0.25\n",
    "    else:\n",
    "        init = two_mer_probs[seq[:2]]\n",
    "        for i in range(2,len(seq)):\n",
    "            prec = seq[i-2:i]\n",
    "            init *= cond_probs[seq[i]][prec]\n",
    "        return init"
   ]
  },
  {
   "cell_type": "markdown",
   "metadata": {},
   "source": [
    "We also need to obtain the paramters (probabilities and conditional probabilities of models) from the training data. How this is done is by calculating the frequencies of each two mer and the frequencies of each two mer as a preceding two mer of each nucleotide."
   ]
  },
  {
   "cell_type": "code",
   "execution_count": 68,
   "metadata": {},
   "outputs": [],
   "source": [
    "def get_two_mer_probs(seqs, nucs = [\"A\",\"G\",\"T\",\"C\"]):\n",
    "    \"\"\"\n",
    "    Calculate the probabilities of occurrences of each two mer with the given sequences\n",
    "    :param seqs: a list of strings representing the sequences\n",
    "    :param nucs: a list of nucleotides that would appear in sequences\n",
    "    :return: a dictionary with keys representing every possible two mers and values representing the probability of occurrence of the key two mer\n",
    "    \"\"\"\n",
    "    probs = {}\n",
    "    total = 0\n",
    "    for n1 in nucs:\n",
    "        for n2 in nucs:\n",
    "            probs[n1+n2] = 0\n",
    "    for seq in seqs:\n",
    "        for i in range(len(seq)-1):\n",
    "            total += 1\n",
    "            probs[seq[i:i+2]] += 1\n",
    "    for two_mer in probs.keys():\n",
    "        probs[two_mer] /= total\n",
    "    return probs\n",
    "\n",
    "def get_two_mer_cond_probs(seqs, nucs = [\"A\",\"G\",\"T\",\"C\"]):\n",
    "    \"\"\"\n",
    "    Calculating the conditional probabilities of each nucleotide follows all possible preceeding two mers\n",
    "    :param seqs: a list of strings representing the sequences\n",
    "    :param nucs: a list of nucleotides that would appear in sequences\n",
    "    :return: a dictionary with keys representing each nucleotide and values of dictionaries of keys as two mers and values as probabilities of each two mer occurs as the preceeding two mer of the nucleotide\n",
    "    \"\"\"\n",
    "    probs = {}\n",
    "    total = {}\n",
    "    for n in nucs:\n",
    "        total[n] = 0\n",
    "        probs[n] = {}\n",
    "        for n1 in nucs:\n",
    "            for n2 in nucs:\n",
    "                probs[n][n1+n2] = 0\n",
    "    for seq in seqs:\n",
    "        for i in range(2,len(seq)):\n",
    "            nuc = seq[i]\n",
    "            prec = seq[i-2:i]\n",
    "            total[nuc] += 1\n",
    "            probs[nuc][prec] += 1\n",
    "    for nuc in nucs:\n",
    "        for two_mer in probs[nuc].keys():\n",
    "            probs[nuc][two_mer] /= total[nuc]\n",
    "\n",
    "    return probs\n",
    " "
   ]
  },
  {
   "cell_type": "markdown",
   "metadata": {},
   "source": [
    "Now we have all parameters for calculating the probability. We just need to preprocess the data for training and testing."
   ]
  },
  {
   "cell_type": "code",
   "execution_count": 69,
   "metadata": {},
   "outputs": [],
   "source": [
    "def split_train(seqs, splits = 2):\n",
    "    \"\"\"\n",
    "    Split the input sequences to a train dataset and a test dataset where the size of the train dataset is the total number of sequences divided by splits\n",
    "    :param seqs: a list of strings representing sequences\n",
    "    :param splits: the fold of seqs and train data\n",
    "    :return: a list of training sequences of size len(seqs)-len(seqs)//splits, a list of test sequences of size len(seqs)//splits\n",
    "    \"\"\"\n",
    "    test_size = len(seqs) // splits\n",
    "    rand_idx = np.random.permutation(len(seqs))\n",
    "    test_idx = rand_idx[:test_size]\n",
    "    train_idx = rand_idx[test_size:]\n",
    "    train_seqs = [seqs[i] for i in train_idx]\n",
    "    test_seqs = [seqs[i] for i in test_idx]\n",
    "    return train_seqs, test_seqs"
   ]
  },
  {
   "cell_type": "markdown",
   "metadata": {},
   "source": [
    "To calculate the log odds scores, we need all trained probabilities parameters and simply compute it with the probabilities for each model."
   ]
  },
  {
   "cell_type": "code",
   "execution_count": 70,
   "metadata": {},
   "outputs": [],
   "source": [
    "def log_odds_score(seq, mod_prob_1, mod_cond_1, mod_prob_2, mod_cond_2):\n",
    "    \"\"\"\n",
    "    Calculate the log odds score for the given sequences using the probabilities obtained from the two models\n",
    "    :param seq: a string representing the sequence\n",
    "    :param mod_prob_1: a dictionary with keys representing every possible two mers and values representing the probability of occurrence of the key two mer for model 1\n",
    "    :param mod_cond_1: a dictionary with keys representing each nucleotide and values of dictionaries of keys as two mers and values as probabilities of each two mer occurs as the preceeding two mer of the nucleotide for model 1\n",
    "    :param mod_prob_2: a dictionary with keys representing every possible two mers and values representing the probability of occurrence of the key two mer for model 2\n",
    "    :param mod_cond_2: a dictionary with keys representing each nucleotide and values of dictionaries of keys as two mers and values as probabilities of each two mer occurs as the preceeding two mer of the nucleotide for model 2\n",
    "    :return: a float of log odds ratio of the sequence for the two models\n",
    "    \"\"\"\n",
    "    prob_1 = second_order_markov(seq, mod_prob_1, mod_cond_1)\n",
    "    prob_2 = second_order_markov(seq, mod_prob_2, mod_cond_2)\n",
    "    return np.log(prob_1/prob_2)    "
   ]
  },
  {
   "cell_type": "code",
   "execution_count": 71,
   "metadata": {},
   "outputs": [],
   "source": [
    "# Training the models and obtain the required probabilities\n",
    "train_path_seqs, test_path_seqs = split_train(path_seqs)\n",
    "train_sm_seqs, test_sm_seqs = split_train(sandmouse_seqs)\n",
    "path_prob = get_two_mer_probs(train_path_seqs)\n",
    "path_cond = get_two_mer_cond_probs(train_path_seqs)\n",
    "sm_prob = get_two_mer_probs(train_sm_seqs)\n",
    "sm_cond = get_two_mer_cond_probs(train_sm_seqs)\n",
    "\n",
    "# Calculating the log odds scores for each sequences\n",
    "path_log_odds_scores = []\n",
    "sm_log_odds_scores = []\n",
    "for seq in test_path_seqs:\n",
    "    llr = log_odds_score(seq, path_prob, path_cond, sm_prob, sm_cond)\n",
    "    path_log_odds_scores.append(llr)\n",
    "for seq in test_sm_seqs:\n",
    "    llr = log_odds_score(seq, path_prob,path_cond,sm_prob,sm_cond)\n",
    "    sm_log_odds_scores.append(llr)"
   ]
  },
  {
   "cell_type": "markdown",
   "metadata": {},
   "source": [
    "Then, we are able to plot the log odds ratios of each group of reads and draw the ROC curve."
   ]
  },
  {
   "cell_type": "code",
   "execution_count": 72,
   "metadata": {},
   "outputs": [
    {
     "data": {
      "text/plain": [
       "Text(0, 0.5, 'Frequency')"
      ]
     },
     "execution_count": 72,
     "metadata": {},
     "output_type": "execute_result"
    },
    {
     "data": {
      "image/png": "[encoded data removed]",
      "text/plain": [
       "<Figure size 432x288 with 1 Axes>"
      ]
     },
     "metadata": {
      "needs_background": "light"
     },
     "output_type": "display_data"
    }
   ],
   "source": [
    "# Plots a histogram of frequencies of log odds scores\n",
    "plt.hist(path_log_odds_scores, alpha=0.5, density=True, label=\"pathogen\")\n",
    "plt.hist(sm_log_odds_scores, alpha=0.5,density=True, label=\"sand mouse\")\n",
    "plt.title(\"Distribution of Second Order Markov Model Log Odds Ratio of Pathogen and Sand Mouse Reads\")\n",
    "plt.legend()\n",
    "plt.xlabel(\"Log Odds Ratio\")\n",
    "plt.ylabel(\"Frequency\")"
   ]
  },
  {
   "cell_type": "code",
   "execution_count": 73,
   "metadata": {},
   "outputs": [],
   "source": [
    "# Calculate the sensitivity and false positive rate of the second order Markov model\n",
    "sensitivity, false_positive_rate = calc_roc(path_log_odds_scores,sm_log_odds_scores,10)"
   ]
  },
  {
   "cell_type": "code",
   "execution_count": 74,
   "metadata": {},
   "outputs": [
    {
     "data": {
      "text/plain": [
       "Text(0, 0.5, 'Sensitivity')"
      ]
     },
     "execution_count": 74,
     "metadata": {},
     "output_type": "execute_result"
    },
    {
     "data": {
      "image/png": "[encoded data removed]",
      "text/plain": [
       "<Figure size 432x288 with 1 Axes>"
      ]
     },
     "metadata": {
      "needs_background": "light"
     },
     "output_type": "display_data"
    }
   ],
   "source": [
    "# Plot the ROC curve of the second order Markov model\n",
    "plt.plot(false_positive_rate, sensitivity)\n",
    "plt.title(\"ROC Curve of Second Order Markov Model\")\n",
    "plt.xlabel(\"False Positive Rate\")\n",
    "plt.ylabel(\"Sensitivity\")"
   ]
  },
  {
   "cell_type": "markdown",
   "metadata": {},
   "source": [
    "## Analysis\n",
    "Apparently, my model works much better than Moriarty's method as we can clearly see the distributions of log odds ratios of the pathogen reads and normal sand mouse reads differs substantially and ROC curve shows a high sensitivity can be acheived with a low false positive rate at the same time. The reason behind this might be that by using the second order Markov model, we were able to take the order of nucleotides into account of our analysis. Since DNA sequences are transcribed into mRNA and mRNA are later translated into aminoacids by mapping three nucleotides into one amino acid. Therefore, the order of nucleotide matters in real RNA and it determines how DNA are expressed. Therefore, since pathogen reads should express differently with the normal cell sequences does, the nucleotide sequence order should be different to some extent as well. "
   ]
  },
  {
   "cell_type": "markdown",
   "metadata": {},
   "source": [
    "# Exercise 3: Evaluation of the Model\n",
    "To find a threshold that can achieve the target sensitivity of 90%, we start by using the maximum possible threshold value and gradually decrease to see if the sensitivity is above the target."
   ]
  },
  {
   "cell_type": "code",
   "execution_count": 75,
   "metadata": {},
   "outputs": [],
   "source": [
    "def find_threshold(h1, h2, target_sensitivity=0.9, gap=1):\n",
    "    \"\"\"\n",
    "    Finding the max threshold that acheives the target sensitivity from the scores of both hypotheses\n",
    "    :param h1: a list of scores from non-null hypotheses\n",
    "    :param h2: a list of scores from null hypotheses\n",
    "    :param target_sensiticity: a numeric value between 0 and 1 representing the target sensitivity we want to achieve\n",
    "    :param gap: a numeric value for stepping the threshold values\n",
    "    :return: None if no such threshold exits, or the threshold value, true postive counts, false negative counts, false positive counts, true negative counts\n",
    "    \"\"\"\n",
    "    rmax = int(np.ceil(max(max(h1), max(h2))))\n",
    "    rmin = int(np.floor(min(min(h1), min(h2))))\n",
    "    t_count = len(h1)\n",
    "    n_count = len(h2)\n",
    "    for r in range(rmax, rmin-1, -gap):\n",
    "        tp, fn = thresholding(r, h1)\n",
    "        fp, tn = thresholding(r, h2)\n",
    "        if tp/t_count > target_sensitivity:\n",
    "            return r, tp,fn,fp,tn\n",
    "    return None"
   ]
  },
  {
   "cell_type": "markdown",
   "metadata": {},
   "source": [
    "Since we know that the actual pathogen reads are only 1% of the reads obtains and mixed with 99% of sandmouse sequences, we would estimate that the actual false discover rate with the formula: $$\\text{FDR} = \\dfrac{\\text{False Positives}}{\\text{False Positives}+\\text{True Positives}} = \\dfrac{\\text{\\#\\{Sand Mouse Reads Classified as Pathogen\\}}\\times 0.99}{\\text{\\#\\{Sand Mouse Reads Classified as Pathogen\\}}\\times 0.99+\\text{\\#\\{Pathogen Reads Classified as Pathogen\\}}\\times 0.01}$$"
   ]
  },
  {
   "cell_type": "code",
   "execution_count": 76,
   "metadata": {},
   "outputs": [
    {
     "name": "stdout",
     "output_type": "stream",
     "text": [
      "(0, 4607, 392, 366, 4633)\n",
      "The score threshold would be 0.00.\n",
      "The estimated false positive rate would be 0.0732.\n",
      "The false discovery rate is 0.8872.\n"
     ]
    }
   ],
   "source": [
    "path_prop, sm_prop = 0.01, 0.99\n",
    "thres_info = find_threshold(path_log_odds_scores, sm_log_odds_scores)\n",
    "if thres_info is not None:\n",
    "    print(thres_info)\n",
    "    t, tp,fm,fp,tn = thres_info\n",
    "    print(\"The score threshold would be %0.2f.\"%t)\n",
    "    print(\"The estimated false positive rate would be %0.4f.\"%(fp/(tn+fp)))\n",
    "    print(\"The false discovery rate is %0.4f.\" % (fp*sm_prop/(tp*path_prop+fp*sm_prop)))"
   ]
  },
  {
   "cell_type": "markdown",
   "metadata": {},
   "source": [
    "Therefore, a threshold reaching the target sensitivity would be at 0 with false positive rate of 7%. With this threshold, we have obtained a FDR of 88.6%. which is very high. In this case, the model does not seems to be very good. However, if we take into account how rare the pathogen sequences appears comparing to normal sequences, the total number of reads identified as pathogen is not high, which is acceptable. We can also assume that the pathogen reads are not evenly distributed in the reads we identified as positive and negative, so the expected false discovery rate might not be the actual false discovery rate, suggesting the model is not as bad as it seems with the high FDR."
   ]
  }
 ],
 "metadata": {
  "kernelspec": {
   "display_name": "Python 3",
   "language": "python",
   "name": "python3"
  },
  "language_info": {
   "codemirror_mode": {
    "name": "ipython",
    "version": 3
   },
   "file_extension": ".py",
   "mimetype": "text/x-python",
   "name": "python",
   "nbconvert_exporter": "python",
   "pygments_lexer": "ipython3",
   "version": "3.8.5"
  },
  "vscode": {
   "interpreter": {
    "hash": "7cdf2b7fdd65634281fa6b52acc14e7f0570dad9a1e24e3436f0495181b08578"
   }
  }
 },
 "nbformat": 4,
 "nbformat_minor": 4
}
